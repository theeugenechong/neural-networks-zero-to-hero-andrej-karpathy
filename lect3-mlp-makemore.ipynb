{
 "cells": [
  {
   "cell_type": "markdown",
   "id": "9a126446",
   "metadata": {},
   "source": [
    "### Makemore Part 2: Multi-Layer Perceptron (MLP) *Bengio et al.*"
   ]
  },
  {
   "cell_type": "code",
   "execution_count": 1,
   "id": "07f4d037",
   "metadata": {},
   "outputs": [],
   "source": [
    "import torch\n",
    "import torch.nn.functional as F\n",
    "import matplotlib.pyplot as plt \n",
    "%matplotlib inline"
   ]
  },
  {
   "cell_type": "code",
   "execution_count": 2,
   "id": "a33e08be",
   "metadata": {},
   "outputs": [],
   "source": [
    "import os    \n",
    "os.environ['KMP_DUPLICATE_LIB_OK'] = 'True'"
   ]
  },
  {
   "cell_type": "code",
   "execution_count": 3,
   "id": "6e442219",
   "metadata": {},
   "outputs": [
    {
     "data": {
      "text/plain": [
       "['emma', 'olivia', 'ava', 'isabella', 'sophia', 'charlotte', 'mia', 'amelia']"
      ]
     },
     "execution_count": 3,
     "metadata": {},
     "output_type": "execute_result"
    }
   ],
   "source": [
    "# read in all the words\n",
    "words = open('names.txt', 'r').read().splitlines()\n",
    "words[:8]"
   ]
  },
  {
   "cell_type": "code",
   "execution_count": 4,
   "id": "f1dd1300",
   "metadata": {},
   "outputs": [
    {
     "data": {
      "text/plain": [
       "32033"
      ]
     },
     "execution_count": 4,
     "metadata": {},
     "output_type": "execute_result"
    }
   ],
   "source": [
    "len(words)"
   ]
  },
  {
   "cell_type": "code",
   "execution_count": 5,
   "id": "00c99cb1",
   "metadata": {},
   "outputs": [
    {
     "name": "stdout",
     "output_type": "stream",
     "text": [
      "{1: 'a', 2: 'b', 3: 'c', 4: 'd', 5: 'e', 6: 'f', 7: 'g', 8: 'h', 9: 'i', 10: 'j', 11: 'k', 12: 'l', 13: 'm', 14: 'n', 15: 'o', 16: 'p', 17: 'q', 18: 'r', 19: 's', 20: 't', 21: 'u', 22: 'v', 23: 'w', 24: 'x', 25: 'y', 26: 'z', 0: '.'} {'a': 1, 'b': 2, 'c': 3, 'd': 4, 'e': 5, 'f': 6, 'g': 7, 'h': 8, 'i': 9, 'j': 10, 'k': 11, 'l': 12, 'm': 13, 'n': 14, 'o': 15, 'p': 16, 'q': 17, 'r': 18, 's': 19, 't': 20, 'u': 21, 'v': 22, 'w': 23, 'x': 24, 'y': 25, 'z': 26, '.': 0}\n"
     ]
    }
   ],
   "source": [
    "# build the vocabulary of characters and mappings to/from integers\n",
    "\n",
    "chars = sorted(list(set(''.join(words))))\n",
    "stoi = {s:i+1 for i, s in enumerate(chars)}\n",
    "stoi['.'] = 0\n",
    "itos = {i:s for s, i in stoi.items()}\n",
    "print(itos, stoi)"
   ]
  },
  {
   "cell_type": "code",
   "execution_count": 6,
   "id": "ebcc6983",
   "metadata": {},
   "outputs": [
    {
     "name": "stdout",
     "output_type": "stream",
     "text": [
      "emma\n",
      "... ---> e\n",
      "..e ---> m\n",
      ".em ---> m\n",
      "emm ---> a\n",
      "mma ---> .\n",
      "olivia\n",
      "... ---> o\n",
      "..o ---> l\n",
      ".ol ---> i\n",
      "oli ---> v\n",
      "liv ---> i\n",
      "ivi ---> a\n",
      "via ---> .\n",
      "ava\n",
      "... ---> a\n",
      "..a ---> v\n",
      ".av ---> a\n",
      "ava ---> .\n",
      "isabella\n",
      "... ---> i\n",
      "..i ---> s\n",
      ".is ---> a\n",
      "isa ---> b\n",
      "sab ---> e\n",
      "abe ---> l\n",
      "bel ---> l\n",
      "ell ---> a\n",
      "lla ---> .\n",
      "sophia\n",
      "... ---> s\n",
      "..s ---> o\n",
      ".so ---> p\n",
      "sop ---> h\n",
      "oph ---> i\n",
      "phi ---> a\n",
      "hia ---> .\n"
     ]
    }
   ],
   "source": [
    "# build the dataset\n",
    "\n",
    "block_size = 3 # context length: how many characters do we take to predict the next one?\n",
    "X, Y = [], []\n",
    "\n",
    "for w in words[:5]:\n",
    "    print(w)\n",
    "    context = [0] * block_size\n",
    "    for ch in w + '.':\n",
    "        ix = stoi[ch]\n",
    "        X.append(context)\n",
    "        Y.append(ix)\n",
    "        print(''.join(itos[i] for i in context), '--->', itos[ix])\n",
    "        context = context[1:] + [ix] # crop and append\n",
    "        \n",
    "X = torch.tensor(X)\n",
    "Y = torch.tensor(Y)"
   ]
  },
  {
   "cell_type": "code",
   "execution_count": 7,
   "id": "efd27e89",
   "metadata": {},
   "outputs": [
    {
     "data": {
      "text/plain": [
       "(torch.Size([32, 3]), torch.int64, torch.Size([32]), torch.int64)"
      ]
     },
     "execution_count": 7,
     "metadata": {},
     "output_type": "execute_result"
    }
   ],
   "source": [
    "X.shape, X.dtype, Y.shape, Y.dtype"
   ]
  },
  {
   "cell_type": "code",
   "execution_count": 8,
   "id": "80f1a2b1",
   "metadata": {},
   "outputs": [
    {
     "data": {
      "text/plain": [
       "tensor([[ 0,  0,  0],\n",
       "        [ 0,  0,  5],\n",
       "        [ 0,  5, 13],\n",
       "        [ 5, 13, 13],\n",
       "        [13, 13,  1],\n",
       "        [ 0,  0,  0],\n",
       "        [ 0,  0, 15],\n",
       "        [ 0, 15, 12],\n",
       "        [15, 12,  9],\n",
       "        [12,  9, 22],\n",
       "        [ 9, 22,  9],\n",
       "        [22,  9,  1],\n",
       "        [ 0,  0,  0],\n",
       "        [ 0,  0,  1],\n",
       "        [ 0,  1, 22],\n",
       "        [ 1, 22,  1],\n",
       "        [ 0,  0,  0],\n",
       "        [ 0,  0,  9],\n",
       "        [ 0,  9, 19],\n",
       "        [ 9, 19,  1],\n",
       "        [19,  1,  2],\n",
       "        [ 1,  2,  5],\n",
       "        [ 2,  5, 12],\n",
       "        [ 5, 12, 12],\n",
       "        [12, 12,  1],\n",
       "        [ 0,  0,  0],\n",
       "        [ 0,  0, 19],\n",
       "        [ 0, 19, 15],\n",
       "        [19, 15, 16],\n",
       "        [15, 16,  8],\n",
       "        [16,  8,  9],\n",
       "        [ 8,  9,  1]])"
      ]
     },
     "execution_count": 8,
     "metadata": {},
     "output_type": "execute_result"
    }
   ],
   "source": [
    "X"
   ]
  },
  {
   "cell_type": "code",
   "execution_count": 9,
   "id": "885d29ed",
   "metadata": {},
   "outputs": [
    {
     "data": {
      "text/plain": [
       "tensor([ 5, 13, 13,  1,  0, 15, 12,  9, 22,  9,  1,  0,  1, 22,  1,  0,  9, 19,\n",
       "         1,  2,  5, 12, 12,  1,  0, 19, 15, 16,  8,  9,  1,  0])"
      ]
     },
     "execution_count": 9,
     "metadata": {},
     "output_type": "execute_result"
    }
   ],
   "source": [
    "Y"
   ]
  },
  {
   "cell_type": "markdown",
   "id": "e8466cf4",
   "metadata": {},
   "source": [
    "The original implementation by Bengio crams 17000 words into a 30-dimensional space.\n",
    "\n",
    "We only have 27 characters now, so we will cram them all into a 2-dimensional space.\n",
    "\n",
    "So now each of our 27 characters will have a 2-dimensional embedding."
   ]
  },
  {
   "cell_type": "code",
   "execution_count": 10,
   "id": "3ecd946f",
   "metadata": {},
   "outputs": [],
   "source": [
    "C = torch.randn((27, 2))"
   ]
  },
  {
   "cell_type": "code",
   "execution_count": 11,
   "id": "f6bb3717",
   "metadata": {},
   "outputs": [
    {
     "data": {
      "text/plain": [
       "tensor([[ 0.8920,  0.2347],\n",
       "        [ 1.2021, -0.7903],\n",
       "        [-0.4854, -0.6218],\n",
       "        [-2.0656, -0.7208],\n",
       "        [ 0.0805,  1.2892],\n",
       "        [ 0.8130,  1.1574],\n",
       "        [ 0.8990, -0.2108],\n",
       "        [-1.7195, -0.9905],\n",
       "        [-1.5704,  0.8526],\n",
       "        [-0.1201, -1.4615],\n",
       "        [-0.6847,  0.7112],\n",
       "        [-2.0463, -0.0508],\n",
       "        [-0.1302,  0.7672],\n",
       "        [ 0.9162,  0.8997],\n",
       "        [-0.2518,  0.9686],\n",
       "        [ 0.8171,  2.3268],\n",
       "        [ 0.2505,  2.9521],\n",
       "        [ 0.7078, -2.0918],\n",
       "        [-0.2624, -0.1203],\n",
       "        [-0.6654, -2.1703],\n",
       "        [ 0.3903, -1.6120],\n",
       "        [ 0.8961,  0.0751],\n",
       "        [ 1.2895, -0.2518],\n",
       "        [-0.1680,  0.1969],\n",
       "        [-0.1535,  1.5716],\n",
       "        [-0.6797, -1.3104],\n",
       "        [ 1.9092, -1.3747]])"
      ]
     },
     "execution_count": 11,
     "metadata": {},
     "output_type": "execute_result"
    }
   ],
   "source": [
    "C # initialised randomly"
   ]
  },
  {
   "cell_type": "markdown",
   "id": "395fd797",
   "metadata": {},
   "source": [
    "Let's try to embed a single character, say the 5th character"
   ]
  },
  {
   "cell_type": "code",
   "execution_count": 12,
   "id": "e2001809",
   "metadata": {},
   "outputs": [
    {
     "data": {
      "text/plain": [
       "tensor([0.8130, 1.1574])"
      ]
     },
     "execution_count": 12,
     "metadata": {},
     "output_type": "execute_result"
    }
   ],
   "source": [
    "C[5]"
   ]
  },
  {
   "cell_type": "code",
   "execution_count": 13,
   "id": "56ce5a41",
   "metadata": {},
   "outputs": [
    {
     "data": {
      "text/plain": [
       "tensor([0, 0, 0, 0, 0, 1, 0, 0, 0, 0, 0, 0, 0, 0, 0, 0, 0, 0, 0, 0, 0, 0, 0, 0,\n",
       "        0, 0, 0])"
      ]
     },
     "execution_count": 13,
     "metadata": {},
     "output_type": "execute_result"
    }
   ],
   "source": [
    "F.one_hot(torch.tensor(5), num_classes=27)"
   ]
  },
  {
   "cell_type": "code",
   "execution_count": 14,
   "id": "f3ecb7ad",
   "metadata": {},
   "outputs": [
    {
     "data": {
      "text/plain": [
       "torch.Size([27])"
      ]
     },
     "execution_count": 14,
     "metadata": {},
     "output_type": "execute_result"
    }
   ],
   "source": [
    "F.one_hot(torch.tensor(5), num_classes=27).shape"
   ]
  },
  {
   "cell_type": "code",
   "execution_count": 15,
   "id": "31bdb71b",
   "metadata": {},
   "outputs": [
    {
     "data": {
      "text/plain": [
       "torch.int64"
      ]
     },
     "execution_count": 15,
     "metadata": {},
     "output_type": "execute_result"
    }
   ],
   "source": [
    "F.one_hot(torch.tensor(5), num_classes=27).dtype"
   ]
  },
  {
   "cell_type": "markdown",
   "id": "0c4712e4",
   "metadata": {},
   "source": [
    "Will `F.one_hot(torch.tensor(5), num_classes=27) @ C` work? \n",
    "\n",
    "No. Firstly the one hot vector is of type `Long` but C is of type `Float`."
   ]
  },
  {
   "cell_type": "code",
   "execution_count": 16,
   "id": "7fc7e81a",
   "metadata": {},
   "outputs": [
    {
     "data": {
      "text/plain": [
       "tensor([0.8130, 1.1574])"
      ]
     },
     "execution_count": 16,
     "metadata": {},
     "output_type": "execute_result"
    }
   ],
   "source": [
    "F.one_hot(torch.tensor(5), num_classes=27).float() @ C # convert to float"
   ]
  },
  {
   "cell_type": "markdown",
   "id": "204a2831",
   "metadata": {},
   "source": [
    "Note that it is the same as `C[5]` as the one-hot causes it to \"pluck out\" the 5th row of C\n",
    "\n",
    "Hence, it is something \"indexing\" the lookup table, say when we use it at a layer in the neural network.\n",
    "\n",
    "Note, we won't be using this method of indexing but rather just directly index `C`."
   ]
  },
  {
   "cell_type": "code",
   "execution_count": 17,
   "id": "4df15132",
   "metadata": {},
   "outputs": [
    {
     "data": {
      "text/plain": [
       "tensor([0.8130, 1.1574])"
      ]
     },
     "execution_count": 17,
     "metadata": {},
     "output_type": "execute_result"
    }
   ],
   "source": [
    "C[5]"
   ]
  },
  {
   "cell_type": "code",
   "execution_count": 18,
   "id": "50e691e2",
   "metadata": {},
   "outputs": [
    {
     "data": {
      "text/plain": [
       "tensor([[ 0.8130,  1.1574],\n",
       "        [ 0.8990, -0.2108],\n",
       "        [-1.7195, -0.9905]])"
      ]
     },
     "execution_count": 18,
     "metadata": {},
     "output_type": "execute_result"
    }
   ],
   "source": [
    "# pytorch indexing is fairly flexible and quite powerful, you can index C using a tensor/list\n",
    "C[[5, 6, 7]]"
   ]
  },
  {
   "cell_type": "code",
   "execution_count": 19,
   "id": "e3d32761",
   "metadata": {},
   "outputs": [
    {
     "data": {
      "text/plain": [
       "tensor([[ 0.8130,  1.1574],\n",
       "        [ 0.8990, -0.2108],\n",
       "        [-1.7195, -0.9905],\n",
       "        [-1.7195, -0.9905],\n",
       "        [-1.7195, -0.9905],\n",
       "        [-1.7195, -0.9905]])"
      ]
     },
     "execution_count": 19,
     "metadata": {},
     "output_type": "execute_result"
    }
   ],
   "source": [
    "C[torch.tensor([5, 6, 7, 7, 7, 7])]"
   ]
  },
  {
   "cell_type": "code",
   "execution_count": 20,
   "id": "307a4006",
   "metadata": {},
   "outputs": [
    {
     "data": {
      "text/plain": [
       "tensor([[[ 0.8920,  0.2347],\n",
       "         [ 0.8920,  0.2347],\n",
       "         [ 0.8920,  0.2347]],\n",
       "\n",
       "        [[ 0.8920,  0.2347],\n",
       "         [ 0.8920,  0.2347],\n",
       "         [ 0.8130,  1.1574]],\n",
       "\n",
       "        [[ 0.8920,  0.2347],\n",
       "         [ 0.8130,  1.1574],\n",
       "         [ 0.9162,  0.8997]],\n",
       "\n",
       "        [[ 0.8130,  1.1574],\n",
       "         [ 0.9162,  0.8997],\n",
       "         [ 0.9162,  0.8997]],\n",
       "\n",
       "        [[ 0.9162,  0.8997],\n",
       "         [ 0.9162,  0.8997],\n",
       "         [ 1.2021, -0.7903]],\n",
       "\n",
       "        [[ 0.8920,  0.2347],\n",
       "         [ 0.8920,  0.2347],\n",
       "         [ 0.8920,  0.2347]],\n",
       "\n",
       "        [[ 0.8920,  0.2347],\n",
       "         [ 0.8920,  0.2347],\n",
       "         [ 0.8171,  2.3268]],\n",
       "\n",
       "        [[ 0.8920,  0.2347],\n",
       "         [ 0.8171,  2.3268],\n",
       "         [-0.1302,  0.7672]],\n",
       "\n",
       "        [[ 0.8171,  2.3268],\n",
       "         [-0.1302,  0.7672],\n",
       "         [-0.1201, -1.4615]],\n",
       "\n",
       "        [[-0.1302,  0.7672],\n",
       "         [-0.1201, -1.4615],\n",
       "         [ 1.2895, -0.2518]],\n",
       "\n",
       "        [[-0.1201, -1.4615],\n",
       "         [ 1.2895, -0.2518],\n",
       "         [-0.1201, -1.4615]],\n",
       "\n",
       "        [[ 1.2895, -0.2518],\n",
       "         [-0.1201, -1.4615],\n",
       "         [ 1.2021, -0.7903]],\n",
       "\n",
       "        [[ 0.8920,  0.2347],\n",
       "         [ 0.8920,  0.2347],\n",
       "         [ 0.8920,  0.2347]],\n",
       "\n",
       "        [[ 0.8920,  0.2347],\n",
       "         [ 0.8920,  0.2347],\n",
       "         [ 1.2021, -0.7903]],\n",
       "\n",
       "        [[ 0.8920,  0.2347],\n",
       "         [ 1.2021, -0.7903],\n",
       "         [ 1.2895, -0.2518]],\n",
       "\n",
       "        [[ 1.2021, -0.7903],\n",
       "         [ 1.2895, -0.2518],\n",
       "         [ 1.2021, -0.7903]],\n",
       "\n",
       "        [[ 0.8920,  0.2347],\n",
       "         [ 0.8920,  0.2347],\n",
       "         [ 0.8920,  0.2347]],\n",
       "\n",
       "        [[ 0.8920,  0.2347],\n",
       "         [ 0.8920,  0.2347],\n",
       "         [-0.1201, -1.4615]],\n",
       "\n",
       "        [[ 0.8920,  0.2347],\n",
       "         [-0.1201, -1.4615],\n",
       "         [-0.6654, -2.1703]],\n",
       "\n",
       "        [[-0.1201, -1.4615],\n",
       "         [-0.6654, -2.1703],\n",
       "         [ 1.2021, -0.7903]],\n",
       "\n",
       "        [[-0.6654, -2.1703],\n",
       "         [ 1.2021, -0.7903],\n",
       "         [-0.4854, -0.6218]],\n",
       "\n",
       "        [[ 1.2021, -0.7903],\n",
       "         [-0.4854, -0.6218],\n",
       "         [ 0.8130,  1.1574]],\n",
       "\n",
       "        [[-0.4854, -0.6218],\n",
       "         [ 0.8130,  1.1574],\n",
       "         [-0.1302,  0.7672]],\n",
       "\n",
       "        [[ 0.8130,  1.1574],\n",
       "         [-0.1302,  0.7672],\n",
       "         [-0.1302,  0.7672]],\n",
       "\n",
       "        [[-0.1302,  0.7672],\n",
       "         [-0.1302,  0.7672],\n",
       "         [ 1.2021, -0.7903]],\n",
       "\n",
       "        [[ 0.8920,  0.2347],\n",
       "         [ 0.8920,  0.2347],\n",
       "         [ 0.8920,  0.2347]],\n",
       "\n",
       "        [[ 0.8920,  0.2347],\n",
       "         [ 0.8920,  0.2347],\n",
       "         [-0.6654, -2.1703]],\n",
       "\n",
       "        [[ 0.8920,  0.2347],\n",
       "         [-0.6654, -2.1703],\n",
       "         [ 0.8171,  2.3268]],\n",
       "\n",
       "        [[-0.6654, -2.1703],\n",
       "         [ 0.8171,  2.3268],\n",
       "         [ 0.2505,  2.9521]],\n",
       "\n",
       "        [[ 0.8171,  2.3268],\n",
       "         [ 0.2505,  2.9521],\n",
       "         [-1.5704,  0.8526]],\n",
       "\n",
       "        [[ 0.2505,  2.9521],\n",
       "         [-1.5704,  0.8526],\n",
       "         [-0.1201, -1.4615]],\n",
       "\n",
       "        [[-1.5704,  0.8526],\n",
       "         [-0.1201, -1.4615],\n",
       "         [ 1.2021, -0.7903]]])"
      ]
     },
     "execution_count": 20,
     "metadata": {},
     "output_type": "execute_result"
    }
   ],
   "source": [
    "# can even index with 2-D tensors, i.e. the training dataset X\n",
    "C[X]"
   ]
  },
  {
   "cell_type": "code",
   "execution_count": 21,
   "id": "2fea2a38",
   "metadata": {},
   "outputs": [
    {
     "data": {
      "text/plain": [
       "torch.Size([32, 3, 2])"
      ]
     },
     "execution_count": 21,
     "metadata": {},
     "output_type": "execute_result"
    }
   ],
   "source": [
    "C[X].shape"
   ]
  },
  {
   "cell_type": "code",
   "execution_count": 22,
   "id": "2a38b45a",
   "metadata": {},
   "outputs": [
    {
     "data": {
      "text/plain": [
       "tensor(1)"
      ]
     },
     "execution_count": 22,
     "metadata": {},
     "output_type": "execute_result"
    }
   ],
   "source": [
    "X[13, 2]"
   ]
  },
  {
   "cell_type": "code",
   "execution_count": 23,
   "id": "3371291d",
   "metadata": {},
   "outputs": [
    {
     "data": {
      "text/plain": [
       "tensor([ 1.2021, -0.7903])"
      ]
     },
     "execution_count": 23,
     "metadata": {},
     "output_type": "execute_result"
    }
   ],
   "source": [
    "C[X][13, 2] # we get the embedding for 1"
   ]
  },
  {
   "cell_type": "code",
   "execution_count": 24,
   "id": "f7e18e5f",
   "metadata": {},
   "outputs": [
    {
     "data": {
      "text/plain": [
       "tensor([True, True])"
      ]
     },
     "execution_count": 24,
     "metadata": {},
     "output_type": "execute_result"
    }
   ],
   "source": [
    "C[1] == C[X][13, 2]"
   ]
  },
  {
   "cell_type": "code",
   "execution_count": 25,
   "id": "8e899047",
   "metadata": {},
   "outputs": [
    {
     "data": {
      "text/plain": [
       "torch.Size([32, 3, 2])"
      ]
     },
     "execution_count": 25,
     "metadata": {},
     "output_type": "execute_result"
    }
   ],
   "source": [
    "emb = C[X]\n",
    "emb.shape"
   ]
  },
  {
   "cell_type": "code",
   "execution_count": 26,
   "id": "76a243d4",
   "metadata": {},
   "outputs": [],
   "source": [
    "# let's build the first layer\n",
    "W1 = torch.randn((6, 100)) # we have 3x 2-d embeddings hence 6, and 100 neurons in the next layer\n",
    "b1 = torch.randn(100) # biases"
   ]
  },
  {
   "cell_type": "markdown",
   "id": "7a9d4d84",
   "metadata": {},
   "source": [
    "We want to do `emb @ W1 + b1` but note that it won't work now because the dimensions of the embedding are `[32, 3, 2]`.\n",
    "\n",
    "We need to concatenate the embeddings for all three characters together to get a `[32, 6]` shape instead."
   ]
  },
  {
   "cell_type": "code",
   "execution_count": 27,
   "id": "51bd7b7b",
   "metadata": {},
   "outputs": [
    {
     "data": {
      "text/plain": [
       "tensor([[ 0.8920,  0.2347],\n",
       "        [ 0.8920,  0.2347],\n",
       "        [ 0.8920,  0.2347],\n",
       "        [ 0.8130,  1.1574],\n",
       "        [ 0.9162,  0.8997],\n",
       "        [ 0.8920,  0.2347],\n",
       "        [ 0.8920,  0.2347],\n",
       "        [ 0.8920,  0.2347],\n",
       "        [ 0.8171,  2.3268],\n",
       "        [-0.1302,  0.7672],\n",
       "        [-0.1201, -1.4615],\n",
       "        [ 1.2895, -0.2518],\n",
       "        [ 0.8920,  0.2347],\n",
       "        [ 0.8920,  0.2347],\n",
       "        [ 0.8920,  0.2347],\n",
       "        [ 1.2021, -0.7903],\n",
       "        [ 0.8920,  0.2347],\n",
       "        [ 0.8920,  0.2347],\n",
       "        [ 0.8920,  0.2347],\n",
       "        [-0.1201, -1.4615],\n",
       "        [-0.6654, -2.1703],\n",
       "        [ 1.2021, -0.7903],\n",
       "        [-0.4854, -0.6218],\n",
       "        [ 0.8130,  1.1574],\n",
       "        [-0.1302,  0.7672],\n",
       "        [ 0.8920,  0.2347],\n",
       "        [ 0.8920,  0.2347],\n",
       "        [ 0.8920,  0.2347],\n",
       "        [-0.6654, -2.1703],\n",
       "        [ 0.8171,  2.3268],\n",
       "        [ 0.2505,  2.9521],\n",
       "        [-1.5704,  0.8526]])"
      ]
     },
     "execution_count": 27,
     "metadata": {},
     "output_type": "execute_result"
    }
   ],
   "source": [
    "emb[:, 0, :] # embedddings of just the first character in a block"
   ]
  },
  {
   "cell_type": "code",
   "execution_count": 28,
   "id": "2cc2a358",
   "metadata": {},
   "outputs": [
    {
     "data": {
      "text/plain": [
       "tensor([[ 0.8920,  0.2347,  0.8920,  0.2347,  0.8920,  0.2347],\n",
       "        [ 0.8920,  0.2347,  0.8920,  0.2347,  0.8130,  1.1574],\n",
       "        [ 0.8920,  0.2347,  0.8130,  1.1574,  0.9162,  0.8997],\n",
       "        [ 0.8130,  1.1574,  0.9162,  0.8997,  0.9162,  0.8997],\n",
       "        [ 0.9162,  0.8997,  0.9162,  0.8997,  1.2021, -0.7903],\n",
       "        [ 0.8920,  0.2347,  0.8920,  0.2347,  0.8920,  0.2347],\n",
       "        [ 0.8920,  0.2347,  0.8920,  0.2347,  0.8171,  2.3268],\n",
       "        [ 0.8920,  0.2347,  0.8171,  2.3268, -0.1302,  0.7672],\n",
       "        [ 0.8171,  2.3268, -0.1302,  0.7672, -0.1201, -1.4615],\n",
       "        [-0.1302,  0.7672, -0.1201, -1.4615,  1.2895, -0.2518],\n",
       "        [-0.1201, -1.4615,  1.2895, -0.2518, -0.1201, -1.4615],\n",
       "        [ 1.2895, -0.2518, -0.1201, -1.4615,  1.2021, -0.7903],\n",
       "        [ 0.8920,  0.2347,  0.8920,  0.2347,  0.8920,  0.2347],\n",
       "        [ 0.8920,  0.2347,  0.8920,  0.2347,  1.2021, -0.7903],\n",
       "        [ 0.8920,  0.2347,  1.2021, -0.7903,  1.2895, -0.2518],\n",
       "        [ 1.2021, -0.7903,  1.2895, -0.2518,  1.2021, -0.7903],\n",
       "        [ 0.8920,  0.2347,  0.8920,  0.2347,  0.8920,  0.2347],\n",
       "        [ 0.8920,  0.2347,  0.8920,  0.2347, -0.1201, -1.4615],\n",
       "        [ 0.8920,  0.2347, -0.1201, -1.4615, -0.6654, -2.1703],\n",
       "        [-0.1201, -1.4615, -0.6654, -2.1703,  1.2021, -0.7903],\n",
       "        [-0.6654, -2.1703,  1.2021, -0.7903, -0.4854, -0.6218],\n",
       "        [ 1.2021, -0.7903, -0.4854, -0.6218,  0.8130,  1.1574],\n",
       "        [-0.4854, -0.6218,  0.8130,  1.1574, -0.1302,  0.7672],\n",
       "        [ 0.8130,  1.1574, -0.1302,  0.7672, -0.1302,  0.7672],\n",
       "        [-0.1302,  0.7672, -0.1302,  0.7672,  1.2021, -0.7903],\n",
       "        [ 0.8920,  0.2347,  0.8920,  0.2347,  0.8920,  0.2347],\n",
       "        [ 0.8920,  0.2347,  0.8920,  0.2347, -0.6654, -2.1703],\n",
       "        [ 0.8920,  0.2347, -0.6654, -2.1703,  0.8171,  2.3268],\n",
       "        [-0.6654, -2.1703,  0.8171,  2.3268,  0.2505,  2.9521],\n",
       "        [ 0.8171,  2.3268,  0.2505,  2.9521, -1.5704,  0.8526],\n",
       "        [ 0.2505,  2.9521, -1.5704,  0.8526, -0.1201, -1.4615],\n",
       "        [-1.5704,  0.8526, -0.1201, -1.4615,  1.2021, -0.7903]])"
      ]
     },
     "execution_count": 28,
     "metadata": {},
     "output_type": "execute_result"
    }
   ],
   "source": [
    "torch.cat([emb[:, 0, :], emb[:, 1, :], emb[:, 2, :]], 1)"
   ]
  },
  {
   "cell_type": "code",
   "execution_count": 29,
   "id": "c0de904e",
   "metadata": {},
   "outputs": [
    {
     "data": {
      "text/plain": [
       "torch.Size([32, 6])"
      ]
     },
     "execution_count": 29,
     "metadata": {},
     "output_type": "execute_result"
    }
   ],
   "source": [
    "torch.cat([emb[:, 0, :], emb[:, 1, :], emb[:, 2, :]], 1).shape"
   ]
  },
  {
   "cell_type": "markdown",
   "id": "66662ed0",
   "metadata": {},
   "source": [
    "The above won't generalise because what if we change the block size?\n",
    "\n",
    "Check out `torch.unbind()` which removes a dimension and returns a tuple of all slices along that dimension"
   ]
  },
  {
   "cell_type": "code",
   "execution_count": 30,
   "id": "bb73bf0f",
   "metadata": {},
   "outputs": [
    {
     "data": {
      "text/plain": [
       "tensor([[ 0.8920,  0.2347,  0.8920,  0.2347,  0.8920,  0.2347],\n",
       "        [ 0.8920,  0.2347,  0.8920,  0.2347,  0.8130,  1.1574],\n",
       "        [ 0.8920,  0.2347,  0.8130,  1.1574,  0.9162,  0.8997],\n",
       "        [ 0.8130,  1.1574,  0.9162,  0.8997,  0.9162,  0.8997],\n",
       "        [ 0.9162,  0.8997,  0.9162,  0.8997,  1.2021, -0.7903],\n",
       "        [ 0.8920,  0.2347,  0.8920,  0.2347,  0.8920,  0.2347],\n",
       "        [ 0.8920,  0.2347,  0.8920,  0.2347,  0.8171,  2.3268],\n",
       "        [ 0.8920,  0.2347,  0.8171,  2.3268, -0.1302,  0.7672],\n",
       "        [ 0.8171,  2.3268, -0.1302,  0.7672, -0.1201, -1.4615],\n",
       "        [-0.1302,  0.7672, -0.1201, -1.4615,  1.2895, -0.2518],\n",
       "        [-0.1201, -1.4615,  1.2895, -0.2518, -0.1201, -1.4615],\n",
       "        [ 1.2895, -0.2518, -0.1201, -1.4615,  1.2021, -0.7903],\n",
       "        [ 0.8920,  0.2347,  0.8920,  0.2347,  0.8920,  0.2347],\n",
       "        [ 0.8920,  0.2347,  0.8920,  0.2347,  1.2021, -0.7903],\n",
       "        [ 0.8920,  0.2347,  1.2021, -0.7903,  1.2895, -0.2518],\n",
       "        [ 1.2021, -0.7903,  1.2895, -0.2518,  1.2021, -0.7903],\n",
       "        [ 0.8920,  0.2347,  0.8920,  0.2347,  0.8920,  0.2347],\n",
       "        [ 0.8920,  0.2347,  0.8920,  0.2347, -0.1201, -1.4615],\n",
       "        [ 0.8920,  0.2347, -0.1201, -1.4615, -0.6654, -2.1703],\n",
       "        [-0.1201, -1.4615, -0.6654, -2.1703,  1.2021, -0.7903],\n",
       "        [-0.6654, -2.1703,  1.2021, -0.7903, -0.4854, -0.6218],\n",
       "        [ 1.2021, -0.7903, -0.4854, -0.6218,  0.8130,  1.1574],\n",
       "        [-0.4854, -0.6218,  0.8130,  1.1574, -0.1302,  0.7672],\n",
       "        [ 0.8130,  1.1574, -0.1302,  0.7672, -0.1302,  0.7672],\n",
       "        [-0.1302,  0.7672, -0.1302,  0.7672,  1.2021, -0.7903],\n",
       "        [ 0.8920,  0.2347,  0.8920,  0.2347,  0.8920,  0.2347],\n",
       "        [ 0.8920,  0.2347,  0.8920,  0.2347, -0.6654, -2.1703],\n",
       "        [ 0.8920,  0.2347, -0.6654, -2.1703,  0.8171,  2.3268],\n",
       "        [-0.6654, -2.1703,  0.8171,  2.3268,  0.2505,  2.9521],\n",
       "        [ 0.8171,  2.3268,  0.2505,  2.9521, -1.5704,  0.8526],\n",
       "        [ 0.2505,  2.9521, -1.5704,  0.8526, -0.1201, -1.4615],\n",
       "        [-1.5704,  0.8526, -0.1201, -1.4615,  1.2021, -0.7903]])"
      ]
     },
     "execution_count": 30,
     "metadata": {},
     "output_type": "execute_result"
    }
   ],
   "source": [
    "torch.cat(torch.unbind(emb, 1), 1)"
   ]
  },
  {
   "cell_type": "code",
   "execution_count": 31,
   "id": "2a4b1abf",
   "metadata": {},
   "outputs": [
    {
     "data": {
      "text/plain": [
       "torch.Size([32, 6])"
      ]
     },
     "execution_count": 31,
     "metadata": {},
     "output_type": "execute_result"
    }
   ],
   "source": [
    "torch.cat(torch.unbind(emb, 1), 1).shape # same result as above "
   ]
  },
  {
   "cell_type": "markdown",
   "id": "c6f23704",
   "metadata": {},
   "source": [
    "#### Delving into some internals of `torch.tensor`\n"
   ]
  },
  {
   "cell_type": "code",
   "execution_count": 32,
   "id": "116120aa",
   "metadata": {},
   "outputs": [],
   "source": [
    "a = torch.arange(18)"
   ]
  },
  {
   "cell_type": "code",
   "execution_count": 33,
   "id": "609c8cc7",
   "metadata": {},
   "outputs": [
    {
     "data": {
      "text/plain": [
       "tensor([ 0,  1,  2,  3,  4,  5,  6,  7,  8,  9, 10, 11, 12, 13, 14, 15, 16, 17])"
      ]
     },
     "execution_count": 33,
     "metadata": {},
     "output_type": "execute_result"
    }
   ],
   "source": [
    "a\n"
   ]
  },
  {
   "cell_type": "code",
   "execution_count": 34,
   "id": "f905861a",
   "metadata": {},
   "outputs": [
    {
     "data": {
      "text/plain": [
       "torch.Size([18])"
      ]
     },
     "execution_count": 34,
     "metadata": {},
     "output_type": "execute_result"
    }
   ],
   "source": [
    "a.shape"
   ]
  },
  {
   "cell_type": "code",
   "execution_count": 35,
   "id": "842a27db",
   "metadata": {},
   "outputs": [
    {
     "data": {
      "text/plain": [
       "(tensor([[ 0,  1,  2,  3,  4,  5,  6,  7,  8],\n",
       "         [ 9, 10, 11, 12, 13, 14, 15, 16, 17]]),\n",
       " tensor([[[ 0,  1],\n",
       "          [ 2,  3],\n",
       "          [ 4,  5]],\n",
       " \n",
       "         [[ 6,  7],\n",
       "          [ 8,  9],\n",
       "          [10, 11]],\n",
       " \n",
       "         [[12, 13],\n",
       "          [14, 15],\n",
       "          [16, 17]]]))"
      ]
     },
     "execution_count": 35,
     "metadata": {},
     "output_type": "execute_result"
    }
   ],
   "source": [
    "# can re-represent this as different dimension tensors\n",
    "a.view(2, 9), a.view(3, 3, 2)"
   ]
  },
  {
   "cell_type": "markdown",
   "id": "ba58c3e6",
   "metadata": {},
   "source": [
    "The `view()` method is incredibly efficient due to the underlying `storage()` mechanism.\n",
    "\n",
    "No memory is being manipulated or changed under the hood.\n",
    "\n",
    "When `cat()` is used, it is less efficient as a whole new tensor and memory is created for this tensor.\n",
    "\n",
    "More here: http://blog.ezyang.com/2019/05/pytorch-internals/"
   ]
  },
  {
   "cell_type": "code",
   "execution_count": 36,
   "id": "3dd50f20",
   "metadata": {},
   "outputs": [
    {
     "name": "stdout",
     "output_type": "stream",
     "text": [
      "torch.Size([32, 3, 2])\n"
     ]
    },
    {
     "data": {
      "text/plain": [
       "tensor([[ 0.8920,  0.2347,  0.8920,  0.2347,  0.8920,  0.2347],\n",
       "        [ 0.8920,  0.2347,  0.8920,  0.2347,  0.8130,  1.1574],\n",
       "        [ 0.8920,  0.2347,  0.8130,  1.1574,  0.9162,  0.8997],\n",
       "        [ 0.8130,  1.1574,  0.9162,  0.8997,  0.9162,  0.8997],\n",
       "        [ 0.9162,  0.8997,  0.9162,  0.8997,  1.2021, -0.7903],\n",
       "        [ 0.8920,  0.2347,  0.8920,  0.2347,  0.8920,  0.2347],\n",
       "        [ 0.8920,  0.2347,  0.8920,  0.2347,  0.8171,  2.3268],\n",
       "        [ 0.8920,  0.2347,  0.8171,  2.3268, -0.1302,  0.7672],\n",
       "        [ 0.8171,  2.3268, -0.1302,  0.7672, -0.1201, -1.4615],\n",
       "        [-0.1302,  0.7672, -0.1201, -1.4615,  1.2895, -0.2518],\n",
       "        [-0.1201, -1.4615,  1.2895, -0.2518, -0.1201, -1.4615],\n",
       "        [ 1.2895, -0.2518, -0.1201, -1.4615,  1.2021, -0.7903],\n",
       "        [ 0.8920,  0.2347,  0.8920,  0.2347,  0.8920,  0.2347],\n",
       "        [ 0.8920,  0.2347,  0.8920,  0.2347,  1.2021, -0.7903],\n",
       "        [ 0.8920,  0.2347,  1.2021, -0.7903,  1.2895, -0.2518],\n",
       "        [ 1.2021, -0.7903,  1.2895, -0.2518,  1.2021, -0.7903],\n",
       "        [ 0.8920,  0.2347,  0.8920,  0.2347,  0.8920,  0.2347],\n",
       "        [ 0.8920,  0.2347,  0.8920,  0.2347, -0.1201, -1.4615],\n",
       "        [ 0.8920,  0.2347, -0.1201, -1.4615, -0.6654, -2.1703],\n",
       "        [-0.1201, -1.4615, -0.6654, -2.1703,  1.2021, -0.7903],\n",
       "        [-0.6654, -2.1703,  1.2021, -0.7903, -0.4854, -0.6218],\n",
       "        [ 1.2021, -0.7903, -0.4854, -0.6218,  0.8130,  1.1574],\n",
       "        [-0.4854, -0.6218,  0.8130,  1.1574, -0.1302,  0.7672],\n",
       "        [ 0.8130,  1.1574, -0.1302,  0.7672, -0.1302,  0.7672],\n",
       "        [-0.1302,  0.7672, -0.1302,  0.7672,  1.2021, -0.7903],\n",
       "        [ 0.8920,  0.2347,  0.8920,  0.2347,  0.8920,  0.2347],\n",
       "        [ 0.8920,  0.2347,  0.8920,  0.2347, -0.6654, -2.1703],\n",
       "        [ 0.8920,  0.2347, -0.6654, -2.1703,  0.8171,  2.3268],\n",
       "        [-0.6654, -2.1703,  0.8171,  2.3268,  0.2505,  2.9521],\n",
       "        [ 0.8171,  2.3268,  0.2505,  2.9521, -1.5704,  0.8526],\n",
       "        [ 0.2505,  2.9521, -1.5704,  0.8526, -0.1201, -1.4615],\n",
       "        [-1.5704,  0.8526, -0.1201, -1.4615,  1.2021, -0.7903]])"
      ]
     },
     "execution_count": 36,
     "metadata": {},
     "output_type": "execute_result"
    }
   ],
   "source": [
    "# Likewise, we can actually use view on emb\n",
    "print(emb.shape)\n",
    "emb.view(32, 6)"
   ]
  },
  {
   "cell_type": "code",
   "execution_count": 37,
   "id": "73d2852e",
   "metadata": {},
   "outputs": [],
   "source": [
    "h = torch.tanh(emb.view(emb.shape[0], 6) @ W1 + b1) # can replace emb.shape[0] with -1, torch will infer the shape"
   ]
  },
  {
   "cell_type": "code",
   "execution_count": 38,
   "id": "111e704a",
   "metadata": {},
   "outputs": [
    {
     "data": {
      "text/plain": [
       "tensor([[-0.3333,  0.7716,  0.5724,  ..., -0.9786,  0.9689, -0.9912],\n",
       "        [-0.2130,  0.2374,  0.4710,  ..., -0.9984,  0.9767, -0.9845],\n",
       "        [ 0.7944,  0.5633, -0.5493,  ..., -0.9976,  0.9990, -0.9840],\n",
       "        ...,\n",
       "        [ 0.9999, -0.1057, -0.9702,  ..., -0.9997,  1.0000,  0.4931],\n",
       "        [ 0.9967, -0.6364, -0.9916,  ..., -0.1170,  1.0000,  0.7476],\n",
       "        [-0.5586, -0.8861, -0.9669,  ...,  0.9155, -0.9329, -0.8946]])"
      ]
     },
     "execution_count": 38,
     "metadata": {},
     "output_type": "execute_result"
    }
   ],
   "source": [
    "h"
   ]
  },
  {
   "cell_type": "code",
   "execution_count": 39,
   "id": "c10ae51e",
   "metadata": {},
   "outputs": [
    {
     "data": {
      "text/plain": [
       "torch.Size([32, 100])"
      ]
     },
     "execution_count": 39,
     "metadata": {},
     "output_type": "execute_result"
    }
   ],
   "source": [
    "h.shape # activations for hidden layer for each example"
   ]
  },
  {
   "cell_type": "code",
   "execution_count": 40,
   "id": "56d638c1",
   "metadata": {},
   "outputs": [],
   "source": [
    "# final layer\n",
    "W2 = torch.randn((100, 27))\n",
    "b2 = torch.randn(27)"
   ]
  },
  {
   "cell_type": "code",
   "execution_count": 41,
   "id": "afcf3b8e",
   "metadata": {},
   "outputs": [],
   "source": [
    "logits = h @ W2 + b2"
   ]
  },
  {
   "cell_type": "code",
   "execution_count": 42,
   "id": "9a265d08",
   "metadata": {},
   "outputs": [
    {
     "data": {
      "text/plain": [
       "tensor([[-1.1585e+00,  1.0215e+01, -1.0550e+01, -1.4586e+01, -7.3366e+00,\n",
       "          1.0205e+01, -2.9573e+00,  2.7804e-01, -4.8698e+00,  4.3822e+00,\n",
       "          1.0227e+01,  1.6123e+01,  5.2679e+00, -3.3384e+00, -1.0422e+01,\n",
       "          8.0398e+00,  7.2855e+00, -1.3322e+00,  2.0522e+01,  1.1933e+01,\n",
       "          2.2812e+00,  3.2478e+00, -2.0883e+00, -1.2414e+00, -1.0209e+01,\n",
       "         -4.4947e+00,  1.1769e+01],\n",
       "        [ 6.0051e+00,  8.2692e+00, -1.4753e+01, -1.4048e+01, -1.1109e+01,\n",
       "          8.5653e+00,  2.5992e+00, -3.7230e+00, -3.7131e+00,  9.7339e+00,\n",
       "          1.2532e+01,  1.6736e+01,  1.0281e+00,  6.0648e+00, -7.1833e+00,\n",
       "          1.1825e+01,  2.0024e+00,  5.0650e+00,  2.0869e+01,  1.0440e+01,\n",
       "         -8.1952e-01,  5.4784e-01, -3.9545e-01, -2.8515e+00, -5.9363e+00,\n",
       "         -3.6876e+00,  1.2884e+00],\n",
       "        [ 5.7462e+00,  5.7333e+00, -1.2031e+01, -1.9527e+01, -1.4504e+01,\n",
       "          4.1066e+00,  7.6409e+00, -2.4997e+00, -3.6260e+00,  8.3717e+00,\n",
       "          1.2386e+01,  1.4593e+01, -2.8067e+00,  4.3521e+00, -8.3007e+00,\n",
       "          1.0556e+01,  4.5302e+00,  6.2610e+00,  1.3599e+01,  3.2306e+00,\n",
       "          7.3153e-01, -4.4711e+00, -4.9206e+00, -8.9485e+00, -1.1846e+01,\n",
       "         -8.9461e-01,  5.2026e+00],\n",
       "        [ 2.9234e+00,  4.2427e+00, -1.2541e+01, -2.2369e+01, -6.3859e+00,\n",
       "         -3.6710e+00,  3.2530e+00,  9.2496e-02,  2.4044e-01,  5.5051e+00,\n",
       "          1.0160e+01,  1.0871e+01, -1.2962e+00, -4.0911e+00, -1.3596e+01,\n",
       "          1.4461e+01,  8.9691e+00,  2.6726e-01,  2.2792e+01,  3.8762e+00,\n",
       "          3.3793e+00,  4.7989e+00, -3.0383e+00, -7.7200e+00, -8.6594e+00,\n",
       "          3.0127e-03,  6.7247e+00],\n",
       "        [-5.2635e+00,  3.5389e+00, -1.5423e+00, -1.8603e+01, -3.5271e+00,\n",
       "         -1.8819e+00,  5.7209e-02,  6.8439e-01, -3.8107e+00,  4.9190e+00,\n",
       "          1.0442e+00,  5.3627e+00,  7.9609e+00, -1.1276e+01, -1.2195e+01,\n",
       "          3.8233e+00,  1.4316e+01, -3.6388e-01,  1.1270e+01, -4.8548e+00,\n",
       "          1.1425e+01,  6.3349e-01, -3.0508e+00, -2.2273e-01, -1.4661e+01,\n",
       "         -2.2561e+00,  7.3257e+00],\n",
       "        [-1.1585e+00,  1.0215e+01, -1.0550e+01, -1.4586e+01, -7.3366e+00,\n",
       "          1.0205e+01, -2.9573e+00,  2.7804e-01, -4.8698e+00,  4.3822e+00,\n",
       "          1.0227e+01,  1.6123e+01,  5.2679e+00, -3.3384e+00, -1.0422e+01,\n",
       "          8.0398e+00,  7.2855e+00, -1.3322e+00,  2.0522e+01,  1.1933e+01,\n",
       "          2.2812e+00,  3.2478e+00, -2.0883e+00, -1.2414e+00, -1.0209e+01,\n",
       "         -4.4947e+00,  1.1769e+01],\n",
       "        [ 8.9741e+00,  5.6494e+00, -1.6346e+01, -6.9738e+00, -9.5099e+00,\n",
       "          7.3835e+00,  5.5881e+00, -8.5884e+00, -2.3982e+00,  1.2070e+01,\n",
       "          1.3074e+01,  1.5277e+01,  1.8564e+00,  1.2543e+01, -5.9265e+00,\n",
       "          1.0498e+01, -1.7076e+00,  1.1974e+01,  1.6543e+01,  8.2793e+00,\n",
       "         -9.1844e+00, -8.0988e-01,  1.5416e+00, -2.9936e+00,  2.8727e+00,\n",
       "         -5.8539e+00, -5.8937e+00],\n",
       "        [-5.8823e+00, -1.8587e+00, -1.3877e+01, -2.4744e+01, -1.8162e+01,\n",
       "          3.2784e+00,  1.7406e+01, -1.5931e+00, -1.2743e+00,  9.3574e+00,\n",
       "          6.4562e+00, -8.7540e-01, -5.0483e+00,  5.0284e+00, -3.1714e+00,\n",
       "          4.4905e+00,  1.0388e+01,  4.2909e+00, -2.1987e+00, -6.1391e+00,\n",
       "          1.0056e+01,  1.6189e+00, -8.3641e+00, -1.2546e+01, -2.0412e+00,\n",
       "          3.9636e+00,  5.2047e+00],\n",
       "        [-8.1950e+00, -2.1839e+00, -8.8115e+00, -1.2749e+01,  2.6151e+00,\n",
       "         -7.6805e+00, -4.8833e+00,  7.7271e+00,  3.5518e+00,  6.6103e+00,\n",
       "         -3.5825e+00, -1.2875e+01, -3.7616e+00, -1.3601e+01, -1.6260e+01,\n",
       "          9.5381e+00,  6.0706e+00, -1.1373e+01, -5.4120e-01, -1.7490e+00,\n",
       "          1.0412e+01,  1.4992e+01, -2.2852e+00,  6.2761e+00, -1.0040e+01,\n",
       "         -7.1420e+00,  1.2067e+01],\n",
       "        [-2.7626e+00,  4.3054e-01,  1.7236e-01,  4.6426e-01,  1.1421e+01,\n",
       "         -4.4989e+00, -2.3222e+01, -7.9787e+00, -1.2049e-02, -9.5853e+00,\n",
       "         -2.3015e+00,  6.1334e+00,  7.4237e+00,  4.3718e+00, -4.7925e-02,\n",
       "          1.2997e+00,  2.3711e+00,  6.3458e+00,  2.1649e+01,  1.7166e+01,\n",
       "         -1.2490e+01,  2.5292e+00,  9.4929e+00,  3.9761e+00, -1.1544e+01,\n",
       "         -1.1938e+01,  1.4777e+00],\n",
       "        [-4.6295e+00, -7.2273e+00,  6.1078e+00, -7.9726e+00,  2.3184e+00,\n",
       "          9.6012e+00, -9.3735e+00,  7.0372e+00, -1.1604e+01, -1.1442e+01,\n",
       "          1.3124e+00,  1.0085e+01,  1.5916e+01, -3.4932e+00,  5.2657e+00,\n",
       "         -1.4421e+01, -4.7545e+00,  1.0891e+00, -4.4106e+00, -2.5762e+00,\n",
       "          4.3330e+00, -4.0499e+00,  3.4067e+00,  1.1266e+01, -8.9862e+00,\n",
       "         -4.7269e+00,  1.5633e+00],\n",
       "        [-7.3577e+00,  1.0005e+01, -3.2144e+00, -5.7069e+00,  5.2558e+00,\n",
       "          1.6097e+01, -2.1209e+01,  2.4312e+00, -9.3127e-01, -1.0247e+01,\n",
       "         -1.8289e+00,  1.3971e+01,  1.0700e+01,  3.7779e+00, -4.1204e+00,\n",
       "          2.5749e+00,  3.8750e+00, -2.8079e+00,  1.7267e+01,  2.0910e+01,\n",
       "         -5.0595e+00, -1.9148e+00,  4.8617e+00,  5.7307e-01, -9.4119e+00,\n",
       "         -5.2458e+00,  5.2235e+00],\n",
       "        [-1.1585e+00,  1.0215e+01, -1.0550e+01, -1.4586e+01, -7.3366e+00,\n",
       "          1.0205e+01, -2.9573e+00,  2.7804e-01, -4.8698e+00,  4.3822e+00,\n",
       "          1.0227e+01,  1.6123e+01,  5.2679e+00, -3.3384e+00, -1.0422e+01,\n",
       "          8.0398e+00,  7.2855e+00, -1.3322e+00,  2.0522e+01,  1.1933e+01,\n",
       "          2.2812e+00,  3.2478e+00, -2.0883e+00, -1.2414e+00, -1.0209e+01,\n",
       "         -4.4947e+00,  1.1769e+01],\n",
       "        [-5.8802e+00,  7.8356e+00, -1.5938e-01, -1.3776e+01, -9.8303e-01,\n",
       "          3.0080e+00, -1.1032e+01, -2.2776e+00, -8.6355e+00,  2.0241e+00,\n",
       "         -1.0658e-01,  9.3785e+00,  1.4169e+01, -8.2543e+00, -8.5159e+00,\n",
       "          2.1832e+00,  8.3957e+00, -2.3845e+00,  1.1093e+01,  6.2207e+00,\n",
       "          6.7953e+00,  5.3543e-01,  4.6384e-01,  7.3064e+00, -1.5485e+01,\n",
       "         -4.9398e+00,  8.4598e+00],\n",
       "        [-2.6126e+00,  6.3415e+00, -2.5989e+00, -9.4391e+00,  8.5248e-01,\n",
       "          8.8363e+00, -9.7175e+00, -9.6220e-02, -4.8366e+00, -4.2896e+00,\n",
       "          4.5134e+00,  8.6970e+00,  1.2222e+01, -3.1951e+00, -4.1829e+00,\n",
       "          1.6377e+00,  6.4938e+00,  9.2798e-01,  2.2903e+01,  2.0113e+01,\n",
       "         -6.7691e-02,  2.7451e+00,  6.8473e+00,  1.1222e+01, -1.2783e+01,\n",
       "         -4.4604e+00,  8.0411e+00],\n",
       "        [-3.1152e+00,  4.9958e+00,  2.5880e+00, -8.3434e+00, -7.4461e-01,\n",
       "          1.0989e+01, -1.2204e+01,  1.6922e+00, -1.0198e+01, -3.1215e+00,\n",
       "          4.0386e+00,  1.2547e+01,  1.4761e+01, -4.7321e+00, -4.2154e+00,\n",
       "         -6.4869e+00,  1.2842e+00,  1.1370e+00,  1.3404e+01,  1.5227e+01,\n",
       "         -8.6799e-02, -3.8392e+00,  1.9155e+00,  6.0685e+00, -1.3051e+01,\n",
       "          1.9515e+00,  9.3499e+00],\n",
       "        [-1.1585e+00,  1.0215e+01, -1.0550e+01, -1.4586e+01, -7.3366e+00,\n",
       "          1.0205e+01, -2.9573e+00,  2.7804e-01, -4.8698e+00,  4.3822e+00,\n",
       "          1.0227e+01,  1.6123e+01,  5.2679e+00, -3.3384e+00, -1.0422e+01,\n",
       "          8.0398e+00,  7.2855e+00, -1.3322e+00,  2.0522e+01,  1.1933e+01,\n",
       "          2.2812e+00,  3.2478e+00, -2.0883e+00, -1.2414e+00, -1.0209e+01,\n",
       "         -4.4947e+00,  1.1769e+01],\n",
       "        [-1.4140e+01,  9.3579e-01, -4.3578e+00, -1.8912e+01, -5.0478e-01,\n",
       "          2.9545e+00, -1.0435e+01,  5.0071e+00, -5.6136e+00, -3.6057e+00,\n",
       "         -3.0848e+00,  7.5468e+00,  1.5354e+01, -1.1097e+01, -8.6810e-01,\n",
       "         -3.0872e+00,  6.7350e+00, -5.9420e+00, -6.4459e+00,  2.0666e+00,\n",
       "          7.5119e+00,  9.1842e+00,  6.3598e+00,  9.3410e+00, -6.9624e+00,\n",
       "          1.9454e+00,  9.7347e+00],\n",
       "        [-1.1751e+01,  1.1677e+00, -2.2767e+00, -4.9895e+00,  6.1917e+00,\n",
       "          4.3675e+00, -1.8123e+01, -1.4363e+00,  4.5246e+00, -1.1774e+01,\n",
       "         -1.9907e+01,  9.2471e+00,  5.2190e+00,  1.3008e+00,  4.0724e+00,\n",
       "         -1.0424e+00,  1.7470e+00, -9.2057e+00, -6.4590e+00,  8.4754e+00,\n",
       "          6.3016e+00,  3.6632e+00,  3.2852e+00,  9.8715e+00, -3.4363e+00,\n",
       "          1.4506e+00,  1.0073e+01],\n",
       "        [ 3.5205e+00,  4.0745e+00,  1.3261e+00,  9.9954e+00,  9.1614e+00,\n",
       "          1.9596e+01, -1.7197e+01, -1.9905e-01, -4.7957e-01, -1.5926e+01,\n",
       "         -9.0249e+00,  1.6395e+01,  1.4157e+01,  1.5786e+01,  6.4648e+00,\n",
       "         -6.2100e+00, -4.9560e+00,  3.0776e+00,  8.2182e+00,  1.9526e+01,\n",
       "         -1.5048e+01, -2.5610e+00,  9.0767e-01,  3.7685e-01, -6.2841e+00,\n",
       "         -6.6453e+00,  1.0633e+00],\n",
       "        [-2.5863e+00, -8.4032e+00,  1.2334e+01,  1.7400e+00, -1.0785e+00,\n",
       "          1.5308e+01, -9.5851e+00,  2.8089e+00, -5.7260e+00, -1.3926e+01,\n",
       "          5.3337e-01,  1.0771e+01,  1.5025e+01,  8.8380e+00,  7.0045e+00,\n",
       "         -1.2421e+01, -1.0208e+01,  7.2532e+00, -3.0214e-01, -1.9051e+00,\n",
       "          3.6546e+00, -1.7191e+00,  4.3593e+00,  2.5304e-01, -1.3751e+00,\n",
       "         -6.2223e+00,  2.0735e+00],\n",
       "        [ 1.5794e+00,  1.8997e+01, -2.2580e+01,  6.1753e+00, -1.9572e+00,\n",
       "          1.5436e+01, -8.2904e+00, -4.3233e+00, -5.4442e+00,  4.0860e+00,\n",
       "          1.2586e+00,  1.7106e+01,  2.7885e+00,  1.8254e+01, -1.4662e-02,\n",
       "          1.2473e+01, -1.4347e+00,  7.8979e-01,  1.1135e+01,  2.7734e+01,\n",
       "         -1.6229e+01, -5.9911e+00, -8.9166e+00, -4.2213e+00,  2.2673e+00,\n",
       "         -1.2449e+01, -1.1468e+00],\n",
       "        [-2.3465e+00, -4.7776e+00, -8.7886e+00, -1.8911e+01, -5.1421e+00,\n",
       "          1.2674e+01,  9.6926e+00, -2.7223e+00, -6.3133e-01,  7.8264e+00,\n",
       "          1.2543e+01,  8.3773e+00,  3.7466e+00,  6.9546e+00,  4.2323e+00,\n",
       "          2.5198e+00,  1.6595e+00,  1.1971e+01,  5.8040e+00, -1.1387e+01,\n",
       "          8.8194e+00, -1.3394e+00, -3.3435e+00, -6.0850e-01, -2.8253e-01,\n",
       "         -2.1013e+00, -3.5265e+00],\n",
       "        [-7.2482e+00,  9.1465e+00, -1.5629e+01, -1.7478e+01, -1.4122e+00,\n",
       "          1.5427e-01,  4.9472e+00, -3.8690e+00,  9.0254e+00,  5.5144e+00,\n",
       "          2.7296e+00,  4.6798e+00,  6.2517e-01,  6.4583e+00, -1.3039e+01,\n",
       "          1.4322e+01,  7.4309e+00, -4.3929e+00,  5.9381e+00,  7.1361e+00,\n",
       "         -2.3079e+00,  9.3857e+00, -1.1773e+01, -8.4615e+00,  4.8594e+00,\n",
       "         -6.6973e+00,  9.6132e+00],\n",
       "        [-1.0209e+01,  4.7716e+00,  3.1294e+00, -1.7680e+01,  5.8262e+00,\n",
       "         -4.6178e+00, -1.1080e+01, -3.4868e+00, -1.4780e+00, -4.4413e-01,\n",
       "         -2.9303e+00, -1.2489e+00,  6.9331e+00, -3.5778e+00, -5.3081e+00,\n",
       "          4.1681e+00,  8.7269e+00,  1.3528e+00,  4.0029e+00,  1.9667e+00,\n",
       "          6.4572e+00,  1.8388e+00, -1.3348e+00, -8.6252e-01, -1.6376e+01,\n",
       "         -5.9405e+00,  1.0081e+00],\n",
       "        [-1.1585e+00,  1.0215e+01, -1.0550e+01, -1.4586e+01, -7.3366e+00,\n",
       "          1.0205e+01, -2.9573e+00,  2.7804e-01, -4.8698e+00,  4.3822e+00,\n",
       "          1.0227e+01,  1.6123e+01,  5.2679e+00, -3.3384e+00, -1.0422e+01,\n",
       "          8.0398e+00,  7.2855e+00, -1.3322e+00,  2.0522e+01,  1.1933e+01,\n",
       "          2.2812e+00,  3.2478e+00, -2.0883e+00, -1.2414e+00, -1.0209e+01,\n",
       "         -4.4947e+00,  1.1769e+01],\n",
       "        [-1.3798e+01,  2.1740e+00, -4.4560e+00, -1.3947e+01,  2.8857e-01,\n",
       "          1.3430e+00, -7.5015e+00,  8.0244e+00,  1.1893e+00, -3.9513e+00,\n",
       "         -6.3268e+00,  3.0274e+00,  1.2160e+01, -1.3530e+01,  2.0904e+00,\n",
       "         -6.5491e+00,  7.4311e+00, -8.8990e+00, -1.3142e+01,  2.1043e-01,\n",
       "          1.5317e+01,  6.9113e+00,  6.9898e+00,  8.7253e+00, -6.3968e+00,\n",
       "          7.9835e+00,  1.0078e+01],\n",
       "        [-5.9052e+00,  4.9538e+00, -1.2751e+01,  1.2237e+01,  7.2015e+00,\n",
       "          1.0395e+01, -1.0461e+01, -1.1596e+01,  9.7042e-02, -3.8303e+00,\n",
       "          1.2654e+01,  1.1661e+01,  5.2272e+00,  1.7081e+01,  1.1686e+00,\n",
       "          1.2051e+01, -2.4506e+00,  2.0331e+00,  7.9383e+00,  2.7045e+01,\n",
       "         -1.9506e+01,  6.9372e+00, -6.5902e+00, -1.0216e-01,  1.4165e+01,\n",
       "         -1.7654e+01, -1.5207e-01],\n",
       "        [ 6.1820e+00,  3.2778e+00, -1.1487e+01, -1.3409e+01,  1.7211e-01,\n",
       "          1.5959e+01,  1.8770e+01, -5.1200e+00, -2.7727e+00,  1.9748e+01,\n",
       "          1.1448e+01,  7.4573e+00,  2.1115e+00,  1.3023e+01,  8.0092e+00,\n",
       "         -1.4443e+00, -1.1270e+01,  2.0734e+01,  7.2594e+00, -7.7264e+00,\n",
       "         -4.4791e+00, -1.2955e+01, -1.1310e+01, -6.4767e+00,  8.0001e+00,\n",
       "         -2.0736e+00, -9.4601e+00],\n",
       "        [-8.6885e+00, -9.6839e+00, -9.1596e+00, -2.4929e+01, -4.7086e+00,\n",
       "         -1.5430e+01,  1.6530e+01, -1.9371e-01,  7.0912e+00,  1.2419e+01,\n",
       "          2.2424e+00, -7.2826e+00, -6.4544e+00, -4.9757e+00, -7.6996e+00,\n",
       "          9.3472e+00,  8.0831e+00, -5.6908e+00, -3.2349e+00, -1.6453e+01,\n",
       "          1.6791e+01,  9.3620e+00, -3.4657e+00, -7.6395e+00,  3.7491e+00,\n",
       "          3.9130e+00,  5.4820e+00],\n",
       "        [-1.1732e+01,  5.6724e-01, -7.0696e+00, -8.1698e+00,  4.0130e+00,\n",
       "         -1.1835e+01, -1.3549e+01,  2.8298e+00,  8.2151e+00,  4.2174e+00,\n",
       "         -4.4515e+00, -1.3533e+01, -1.0036e+01, -4.9072e+00, -1.1669e+01,\n",
       "          1.2087e+01,  3.9238e+00, -9.9361e+00, -1.3713e+01, -4.0159e+00,\n",
       "          2.7325e+00,  1.2586e+01, -6.9457e+00, -1.4688e+00, -9.2675e+00,\n",
       "         -1.2773e+01,  6.1757e+00],\n",
       "        [ 2.9279e+00, -1.2889e+01,  1.0957e+01, -5.1970e-01,  1.3972e+01,\n",
       "         -1.0085e+01, -1.5404e+01, -6.9531e+00,  7.1150e-01, -1.2671e+01,\n",
       "         -6.1176e+00,  5.3333e+00,  8.0312e+00,  4.3763e+00,  3.4328e+00,\n",
       "         -7.3669e+00, -1.5776e+00,  1.4817e+01,  7.4422e+00,  7.0072e+00,\n",
       "         -1.7069e+01,  7.0913e-01,  1.6067e+01,  2.3983e+00, -1.5333e+01,\n",
       "         -8.0882e+00, -5.0739e+00]])"
      ]
     },
     "execution_count": 42,
     "metadata": {},
     "output_type": "execute_result"
    }
   ],
   "source": [
    "logits"
   ]
  },
  {
   "cell_type": "code",
   "execution_count": 43,
   "id": "0efc014d",
   "metadata": {},
   "outputs": [
    {
     "data": {
      "text/plain": [
       "torch.Size([32, 27])"
      ]
     },
     "execution_count": 43,
     "metadata": {},
     "output_type": "execute_result"
    }
   ],
   "source": [
    "logits.shape"
   ]
  },
  {
   "cell_type": "code",
   "execution_count": 44,
   "id": "53108146",
   "metadata": {},
   "outputs": [],
   "source": [
    "counts = logits.exp()"
   ]
  },
  {
   "cell_type": "code",
   "execution_count": 45,
   "id": "2edf85e2",
   "metadata": {},
   "outputs": [
    {
     "data": {
      "text/plain": [
       "torch.Size([32, 27])"
      ]
     },
     "execution_count": 45,
     "metadata": {},
     "output_type": "execute_result"
    }
   ],
   "source": [
    "prob = counts / counts.sum(1, keepdims=True)\n",
    "prob.shape"
   ]
  },
  {
   "cell_type": "code",
   "execution_count": 46,
   "id": "358de66e",
   "metadata": {},
   "outputs": [
    {
     "data": {
      "text/plain": [
       "tensor([[3.7920e-10, 3.2975e-05, 3.1649e-14, 5.5911e-16, 7.8661e-13, 3.2653e-05,\n",
       "         6.2758e-11, 1.5949e-09, 9.2698e-12, 9.6644e-08, 3.3395e-05, 1.2140e-02,\n",
       "         2.3432e-07, 4.2868e-11, 3.5969e-14, 3.7466e-06, 1.7622e-06, 3.1874e-10,\n",
       "         9.8742e-01, 1.8388e-04, 1.1823e-08, 3.1082e-08, 1.4963e-10, 3.4901e-10,\n",
       "         4.4481e-14, 1.3489e-11, 1.5597e-04],\n",
       "        [3.4490e-07, 3.3188e-06, 3.3300e-16, 6.7443e-16, 1.2741e-14, 4.4623e-06,\n",
       "         1.1443e-08, 2.0551e-11, 2.0754e-11, 1.4358e-05, 2.3573e-04, 1.5782e-02,\n",
       "         2.3780e-09, 3.6610e-07, 6.4570e-13, 1.1617e-04, 6.2996e-09, 1.3471e-07,\n",
       "         9.8381e-01, 2.9081e-05, 3.7479e-10, 1.4710e-09, 5.7274e-10, 4.9124e-11,\n",
       "         2.2469e-12, 2.1291e-11, 3.0849e-09],\n",
       "        [9.5835e-05, 9.4611e-05, 1.8241e-12, 1.0131e-15, 1.5384e-13, 1.8598e-05,\n",
       "         6.3737e-04, 2.5142e-08, 8.1512e-09, 1.3236e-03, 7.3306e-02, 6.6600e-01,\n",
       "         1.8495e-08, 2.3772e-05, 7.6044e-11, 1.1754e-02, 2.8408e-05, 1.6037e-04,\n",
       "         2.4649e-01, 7.7454e-06, 6.3635e-07, 3.5012e-09, 2.2336e-09, 3.9786e-11,\n",
       "         2.1948e-12, 1.2516e-07, 5.5647e-05],\n",
       "        [2.3488e-09, 8.7863e-09, 4.5169e-16, 2.4345e-20, 2.1275e-13, 3.2132e-12,\n",
       "         3.2658e-09, 1.3849e-10, 1.6057e-10, 3.1052e-08, 3.2641e-06, 6.6412e-06,\n",
       "         3.4539e-11, 2.1111e-12, 1.5721e-16, 2.4083e-04, 9.9193e-07, 1.6493e-10,\n",
       "         9.9975e-01, 6.0907e-09, 3.7054e-09, 1.5323e-08, 6.0492e-12, 5.6039e-14,\n",
       "         2.1903e-14, 1.2663e-10, 1.0513e-07],\n",
       "        [2.8378e-09, 1.8873e-05, 1.1723e-07, 4.5698e-15, 1.6110e-08, 8.3477e-08,\n",
       "         5.8040e-07, 1.0867e-06, 1.2132e-08, 7.5018e-05, 1.5574e-06, 1.1691e-04,\n",
       "         1.5713e-03, 6.9496e-12, 2.7709e-12, 2.5081e-05, 9.0419e-01, 3.8094e-07,\n",
       "         4.2988e-02, 4.2703e-09, 5.0176e-02, 1.0328e-06, 2.5938e-08, 4.3869e-07,\n",
       "         2.3531e-13, 5.7421e-08, 8.3255e-04],\n",
       "        [3.7920e-10, 3.2975e-05, 3.1649e-14, 5.5911e-16, 7.8661e-13, 3.2653e-05,\n",
       "         6.2758e-11, 1.5949e-09, 9.2698e-12, 9.6644e-08, 3.3395e-05, 1.2140e-02,\n",
       "         2.3432e-07, 4.2868e-11, 3.5969e-14, 3.7466e-06, 1.7622e-06, 3.1874e-10,\n",
       "         9.8742e-01, 1.8388e-04, 1.1823e-08, 3.1082e-08, 1.4963e-10, 3.4901e-10,\n",
       "         4.4481e-14, 1.3489e-11, 1.5597e-04],\n",
       "        [3.8067e-04, 1.3697e-05, 3.8366e-15, 4.5128e-11, 3.5731e-12, 7.7582e-05,\n",
       "         1.2882e-05, 8.9790e-12, 4.3812e-09, 8.4177e-03, 2.2977e-02, 2.0780e-01,\n",
       "         3.0858e-07, 1.3507e-02, 1.2861e-10, 1.7465e-03, 8.7400e-09, 7.6458e-03,\n",
       "         7.3723e-01, 1.9000e-04, 4.9475e-12, 2.1449e-08, 2.2523e-07, 2.4157e-09,\n",
       "         8.5253e-07, 1.3830e-10, 1.3290e-10],\n",
       "        [7.6747e-11, 4.2903e-09, 2.5894e-14, 4.9373e-19, 3.5641e-16, 7.3033e-07,\n",
       "         9.9811e-01, 5.5959e-09, 7.6969e-09, 3.1887e-04, 1.7524e-05, 1.1470e-08,\n",
       "         1.7672e-10, 4.2027e-06, 1.1546e-09, 2.4544e-06, 8.9324e-04, 2.0103e-06,\n",
       "         3.0540e-09, 5.9367e-11, 6.4142e-04, 1.3894e-07, 6.4157e-12, 9.8012e-14,\n",
       "         3.5749e-09, 1.4491e-06, 5.0129e-06],\n",
       "        [7.9573e-11, 3.2462e-08, 4.2958e-11, 8.3745e-13, 3.9405e-06, 1.3312e-10,\n",
       "         2.1830e-09, 6.5412e-04, 1.0055e-05, 2.1412e-04, 8.0160e-09, 7.3850e-13,\n",
       "         6.7019e-09, 3.5734e-13, 2.5016e-14, 4.0008e-03, 1.2481e-04, 3.3164e-12,\n",
       "         1.6780e-07, 5.0145e-08, 9.5837e-03, 9.3510e-01, 2.9336e-08, 1.5329e-04,\n",
       "         1.2580e-11, 2.2808e-10, 5.0159e-02],\n",
       "        [2.4726e-11, 6.0244e-10, 4.6535e-10, 6.2310e-10, 3.5715e-05, 4.3559e-12,\n",
       "         3.2206e-20, 1.3423e-13, 3.8699e-10, 2.6920e-14, 3.9208e-11, 1.8056e-07,\n",
       "         6.5613e-07, 3.1016e-08, 3.7335e-10, 1.4367e-09, 4.1944e-09, 2.2328e-07,\n",
       "         9.8879e-01, 1.1173e-02, 1.4739e-15, 4.9131e-09, 5.1954e-06, 2.0880e-08,\n",
       "         3.7956e-15, 2.5617e-15, 1.7166e-09],\n",
       "        [1.1771e-09, 8.7625e-11, 5.4195e-05, 4.1584e-11, 1.2254e-06, 1.7829e-03,\n",
       "         1.0245e-11, 1.3728e-04, 1.1011e-12, 1.2953e-12, 4.4811e-07, 2.8929e-03,\n",
       "         9.8567e-01, 3.6672e-09, 2.3348e-05, 6.5850e-14, 1.0388e-09, 3.5840e-07,\n",
       "         1.4652e-09, 9.1738e-09, 9.1872e-06, 2.1016e-09, 3.6385e-06, 9.4269e-03,\n",
       "         1.5092e-11, 1.0679e-09, 5.7587e-07],\n",
       "        [5.1113e-13, 1.7744e-05, 3.2206e-11, 2.6636e-12, 1.5364e-07, 7.8478e-03,\n",
       "         4.9309e-19, 9.1157e-09, 3.1585e-10, 2.8426e-14, 1.2872e-10, 9.3595e-04,\n",
       "         3.5537e-05, 3.5048e-08, 1.3016e-11, 1.0524e-08, 3.8622e-08, 4.8361e-11,\n",
       "         2.5277e-02, 9.6588e-01, 5.0886e-12, 1.1812e-10, 1.0360e-07, 1.4217e-09,\n",
       "         6.5522e-14, 4.2238e-12, 1.4876e-07],\n",
       "        [3.7920e-10, 3.2975e-05, 3.1649e-14, 5.5911e-16, 7.8661e-13, 3.2653e-05,\n",
       "         6.2758e-11, 1.5949e-09, 9.2698e-12, 9.6644e-08, 3.3395e-05, 1.2140e-02,\n",
       "         2.3432e-07, 4.2868e-11, 3.5969e-14, 3.7466e-06, 1.7622e-06, 3.1874e-10,\n",
       "         9.8742e-01, 1.8388e-04, 1.1823e-08, 3.1082e-08, 1.4963e-10, 3.4901e-10,\n",
       "         4.4481e-14, 1.3489e-11, 1.5597e-04],\n",
       "        [1.8433e-09, 1.6684e-03, 5.6250e-07, 6.8658e-13, 2.4684e-07, 1.3357e-05,\n",
       "         1.0671e-11, 6.7636e-08, 1.1722e-10, 4.9935e-06, 5.9301e-07, 7.8052e-03,\n",
       "         9.3922e-01, 1.7162e-10, 1.3211e-10, 5.8547e-06, 2.9211e-03, 6.0780e-08,\n",
       "         4.3339e-02, 3.3187e-04, 5.8954e-04, 1.1269e-06, 1.0490e-06, 9.8287e-04,\n",
       "         1.2430e-13, 4.7208e-09, 3.1145e-03],\n",
       "        [7.8101e-12, 6.0448e-08, 7.9180e-12, 8.4719e-15, 2.4977e-10, 7.3258e-07,\n",
       "         6.4131e-15, 9.6723e-11, 8.4490e-13, 1.4600e-12, 9.7151e-09, 6.3737e-07,\n",
       "         2.1643e-05, 4.3621e-12, 1.6244e-12, 5.4771e-10, 7.0395e-08, 2.6936e-10,\n",
       "         9.4212e-01, 5.7851e-02, 9.9522e-11, 1.6576e-09, 1.0025e-07, 7.9583e-06,\n",
       "         2.9899e-16, 1.2308e-12, 3.3077e-07],\n",
       "        [5.7680e-09, 1.9212e-05, 1.7295e-06, 3.0936e-11, 6.1739e-08, 7.6957e-03,\n",
       "         6.5152e-13, 7.0609e-07, 4.8440e-12, 5.7316e-09, 7.3766e-06, 3.6559e-02,\n",
       "         3.3450e-01, 1.1450e-09, 1.9197e-09, 1.9802e-10, 4.6953e-07, 4.0525e-07,\n",
       "         8.6138e-02, 5.3352e-01, 1.1919e-07, 2.7963e-09, 8.8273e-07, 5.6165e-05,\n",
       "         2.7927e-13, 9.1509e-07, 1.4946e-03],\n",
       "        [3.7920e-10, 3.2975e-05, 3.1649e-14, 5.5911e-16, 7.8661e-13, 3.2653e-05,\n",
       "         6.2758e-11, 1.5949e-09, 9.2698e-12, 9.6644e-08, 3.3395e-05, 1.2140e-02,\n",
       "         2.3432e-07, 4.2868e-11, 3.5969e-14, 3.7466e-06, 1.7622e-06, 3.1874e-10,\n",
       "         9.8742e-01, 1.8388e-04, 1.1823e-08, 3.1082e-08, 1.4963e-10, 3.4901e-10,\n",
       "         4.4481e-14, 1.3489e-11, 1.5597e-04],\n",
       "        [1.5381e-13, 5.4242e-07, 2.7251e-09, 1.3017e-15, 1.2844e-07, 4.0838e-06,\n",
       "         6.2538e-12, 3.1805e-05, 7.7621e-10, 5.7808e-09, 9.7326e-09, 4.0315e-04,\n",
       "         9.9077e-01, 3.2248e-12, 8.9313e-08, 9.7087e-09, 1.7901e-04, 5.5894e-10,\n",
       "         3.3768e-10, 1.6806e-06, 3.8932e-04, 2.0730e-03, 1.2301e-04, 2.4247e-03,\n",
       "         2.0147e-10, 1.4886e-06, 3.5947e-03],\n",
       "        [1.3190e-10, 5.3797e-05, 1.7173e-06, 1.1395e-07, 8.1776e-03, 1.3194e-03,\n",
       "         2.2533e-13, 3.9794e-06, 1.5438e-03, 1.2891e-10, 3.7847e-14, 1.7361e-01,\n",
       "         3.0918e-03, 6.1451e-05, 9.8230e-04, 5.9009e-06, 9.6016e-05, 1.6812e-09,\n",
       "         2.6211e-08, 8.0247e-02, 9.1277e-03, 6.5238e-04, 4.4706e-04, 3.2415e-01,\n",
       "         5.3857e-07, 7.1387e-05, 3.9635e-01],\n",
       "        [5.2189e-08, 9.0819e-08, 5.8151e-09, 3.3853e-05, 1.4703e-05, 5.0011e-01,\n",
       "         5.2497e-17, 1.2653e-09, 9.5583e-10, 1.8713e-16, 1.8587e-13, 2.0356e-02,\n",
       "         2.1732e-03, 1.1080e-02, 9.9145e-07, 3.1023e-12, 1.0871e-11, 3.3514e-08,\n",
       "         5.7252e-06, 4.6623e-01, 4.5039e-16, 1.1924e-10, 3.8270e-09, 2.2507e-09,\n",
       "         2.8808e-12, 2.0074e-12, 4.4715e-09],\n",
       "        [9.3130e-09, 2.7723e-11, 2.8103e-02, 7.0468e-07, 4.2064e-08, 5.5016e-01,\n",
       "         8.5022e-12, 2.0520e-06, 4.0321e-10, 1.1074e-13, 2.1083e-07, 5.8870e-03,\n",
       "         4.1467e-01, 8.5231e-04, 1.3625e-04, 4.9900e-13, 4.5612e-12, 1.7471e-04,\n",
       "         9.1430e-08, 1.8404e-08, 4.7805e-06, 2.2167e-08, 9.6719e-06, 1.5929e-07,\n",
       "         3.1267e-08, 2.4547e-10, 9.8361e-07],\n",
       "        [4.3774e-12, 1.6060e-04, 1.4090e-22, 4.3372e-10, 1.2743e-13, 4.5631e-06,\n",
       "         2.2638e-16, 1.1959e-14, 3.8986e-15, 5.3684e-11, 3.1761e-12, 2.4222e-05,\n",
       "         1.4667e-11, 7.6368e-05, 8.8906e-13, 2.3555e-07, 2.1489e-13, 1.9875e-12,\n",
       "         6.1811e-08, 9.9973e-01, 8.0732e-20, 2.2563e-15, 1.2102e-16, 1.3243e-14,\n",
       "         8.7093e-12, 3.5377e-18, 2.8657e-13],\n",
       "        [1.2135e-07, 1.0670e-08, 1.9330e-10, 7.7640e-15, 7.4116e-09, 4.0472e-01,\n",
       "         2.0537e-02, 8.3328e-08, 6.7438e-07, 3.1774e-03, 3.5515e-01, 5.5121e-03,\n",
       "         5.3728e-05, 1.3288e-03, 8.7329e-05, 1.5755e-05, 6.6651e-06, 2.0041e-01,\n",
       "         4.2046e-04, 1.4381e-11, 8.5760e-03, 3.3220e-07, 4.4773e-08, 6.8995e-07,\n",
       "         9.5585e-07, 1.5506e-07, 3.7287e-08],\n",
       "        [4.1657e-10, 5.4934e-03, 9.5518e-14, 1.5030e-14, 1.4263e-07, 6.8319e-07,\n",
       "         8.2430e-05, 1.2226e-08, 4.8667e-03, 1.4536e-04, 8.9739e-06, 6.3090e-05,\n",
       "         1.0941e-06, 3.7354e-04, 1.2730e-12, 9.7121e-01, 9.8800e-04, 7.2399e-09,\n",
       "         2.2204e-04, 7.3571e-04, 5.8245e-08, 6.9779e-03, 4.5151e-12, 1.2381e-10,\n",
       "         7.5506e-05, 7.2268e-10, 8.7599e-03],\n",
       "        [4.3599e-09, 1.3976e-02, 2.7049e-03, 2.4818e-12, 4.0122e-02, 1.1685e-06,\n",
       "         1.8235e-09, 3.6207e-06, 2.6989e-05, 7.5894e-05, 6.3164e-06, 3.3940e-05,\n",
       "         1.2137e-01, 3.3059e-06, 5.8590e-07, 7.6432e-03, 7.2969e-01, 4.5772e-04,\n",
       "         6.4790e-03, 8.4570e-04, 7.5406e-02, 7.4418e-04, 3.1147e-05, 4.9946e-05,\n",
       "         9.1406e-12, 3.1129e-07, 3.2425e-04],\n",
       "        [3.7920e-10, 3.2975e-05, 3.1649e-14, 5.5911e-16, 7.8661e-13, 3.2653e-05,\n",
       "         6.2758e-11, 1.5949e-09, 9.2698e-12, 9.6644e-08, 3.3395e-05, 1.2140e-02,\n",
       "         2.3432e-07, 4.2868e-11, 3.5969e-14, 3.7466e-06, 1.7622e-06, 3.1874e-10,\n",
       "         9.8742e-01, 1.8388e-04, 1.1823e-08, 3.1082e-08, 1.4963e-10, 3.4901e-10,\n",
       "         4.4481e-14, 1.3489e-11, 1.5597e-04],\n",
       "        [2.1560e-13, 1.8636e-06, 2.4604e-09, 1.8584e-13, 2.8283e-07, 8.1184e-07,\n",
       "         1.1705e-10, 6.4736e-04, 6.9616e-07, 4.0753e-09, 3.7889e-10, 4.3749e-06,\n",
       "         4.0469e-02, 2.8211e-13, 1.7141e-06, 3.0335e-10, 3.5769e-04, 2.8936e-11,\n",
       "         4.1568e-13, 2.6157e-07, 9.5110e-01, 2.1270e-04, 2.3005e-04, 1.3048e-03,\n",
       "         3.5327e-10, 6.2143e-04, 5.0453e-03],\n",
       "        [4.8949e-15, 2.5453e-10, 5.2089e-18, 3.7053e-07, 2.4092e-09, 5.8742e-08,\n",
       "         5.1409e-17, 1.6530e-17, 1.9791e-12, 3.8981e-14, 5.6231e-07, 2.0833e-07,\n",
       "         3.3455e-10, 4.7048e-05, 5.7789e-12, 3.0766e-07, 1.5489e-13, 1.3717e-11,\n",
       "         5.0335e-09, 9.9995e-01, 6.0657e-21, 1.8497e-09, 2.4673e-15, 1.6216e-12,\n",
       "         2.5476e-06, 3.8677e-20, 1.5427e-12],\n",
       "        [3.1458e-07, 1.7237e-08, 6.6743e-15, 9.7599e-16, 7.7212e-10, 5.5433e-03,\n",
       "         9.2189e-02, 3.8845e-12, 4.0623e-11, 2.4514e-01, 6.0894e-05, 1.1261e-06,\n",
       "         5.3699e-09, 2.9421e-04, 1.9557e-06, 1.5335e-10, 8.2859e-15, 6.5677e-01,\n",
       "         9.2398e-07, 2.8668e-13, 7.3740e-12, 1.5372e-15, 7.9603e-15, 1.0003e-12,\n",
       "         1.9379e-06, 8.1733e-11, 5.0636e-14],\n",
       "        [4.8191e-12, 1.7809e-12, 3.0084e-12, 4.2649e-19, 2.5787e-10, 5.6915e-15,\n",
       "         4.3156e-01, 2.3561e-08, 3.4355e-05, 7.0756e-03, 2.6925e-07, 1.9657e-11,\n",
       "         4.5000e-11, 1.9741e-10, 1.2954e-11, 3.2790e-04, 9.2633e-05, 9.6564e-11,\n",
       "         1.1257e-09, 2.0450e-15, 5.6057e-01, 3.3280e-04, 8.9365e-10, 1.3757e-11,\n",
       "         1.2149e-06, 1.4312e-06, 6.8724e-06],\n",
       "        [1.6937e-11, 3.7178e-06, 1.7934e-09, 5.9681e-10, 1.1661e-04, 1.5283e-11,\n",
       "         2.7522e-12, 3.5719e-05, 7.7934e-03, 1.4307e-04, 2.4585e-08, 2.7971e-12,\n",
       "         9.2315e-11, 1.5588e-08, 1.8045e-11, 3.7443e-01, 1.0667e-04, 1.0204e-10,\n",
       "         2.3352e-12, 3.8005e-08, 3.2409e-05, 6.1632e-01, 2.0299e-09, 4.8536e-07,\n",
       "         1.9913e-10, 5.9780e-12, 1.0140e-03],\n",
       "        [1.3887e-06, 1.8769e-13, 4.2632e-03, 4.4192e-08, 8.6862e-02, 3.0973e-12,\n",
       "         1.5176e-14, 7.1019e-11, 1.5137e-07, 2.3335e-13, 1.6375e-10, 1.5391e-05,\n",
       "         2.2853e-04, 5.9108e-06, 2.3008e-06, 4.6949e-11, 1.5343e-08, 2.0221e-01,\n",
       "         1.2681e-04, 8.2081e-05, 2.8725e-15, 1.5101e-07, 7.0620e-01, 8.1772e-07,\n",
       "         1.6297e-14, 2.2824e-11, 4.6503e-10]])"
      ]
     },
     "execution_count": 46,
     "metadata": {},
     "output_type": "execute_result"
    }
   ],
   "source": [
    "prob"
   ]
  },
  {
   "cell_type": "code",
   "execution_count": 47,
   "id": "60993ed6",
   "metadata": {},
   "outputs": [
    {
     "data": {
      "text/plain": [
       "tensor(1.)"
      ]
     },
     "execution_count": 47,
     "metadata": {},
     "output_type": "execute_result"
    }
   ],
   "source": [
    "prob[0].sum() # all rows sum to 1"
   ]
  },
  {
   "cell_type": "code",
   "execution_count": 48,
   "id": "f4d3790c",
   "metadata": {},
   "outputs": [
    {
     "name": "stdout",
     "output_type": "stream",
     "text": [
      "tensor([ 5, 13, 13,  1,  0, 15, 12,  9, 22,  9,  1,  0,  1, 22,  1,  0,  9, 19,\n",
      "         1,  2,  5, 12, 12,  1,  0, 19, 15, 16,  8,  9,  1,  0])\n"
     ]
    }
   ],
   "source": [
    "# get the probabilities for the characters our model currently predicts compared to the actual labels, Y\n",
    "print(Y)"
   ]
  },
  {
   "cell_type": "code",
   "execution_count": 49,
   "id": "e15e37ba",
   "metadata": {},
   "outputs": [
    {
     "data": {
      "text/plain": [
       "tensor([3.2653e-05, 3.6610e-07, 2.3772e-05, 8.7863e-09, 2.8378e-09, 3.7466e-06,\n",
       "        3.0858e-07, 3.1887e-04, 2.9336e-08, 2.6920e-14, 8.7625e-11, 5.1113e-13,\n",
       "        3.2975e-05, 1.0490e-06, 6.0448e-08, 5.7680e-09, 9.6644e-08, 1.6806e-06,\n",
       "        5.3797e-05, 5.8151e-09, 5.5016e-01, 1.4667e-11, 5.3728e-05, 5.4934e-03,\n",
       "        4.3599e-09, 1.8388e-04, 3.0335e-10, 1.5489e-13, 4.0623e-11, 7.0756e-03,\n",
       "        3.7178e-06, 1.3887e-06])"
      ]
     },
     "execution_count": 49,
     "metadata": {},
     "output_type": "execute_result"
    }
   ],
   "source": [
    "prob[torch.arange(emb.shape[0]), Y]"
   ]
  },
  {
   "cell_type": "markdown",
   "id": "007738f8",
   "metadata": {},
   "source": [
    "The above probabilities look pretty bad because we haven't trained our neural network yet."
   ]
  },
  {
   "cell_type": "code",
   "execution_count": 50,
   "id": "f3aa2238",
   "metadata": {},
   "outputs": [
    {
     "data": {
      "text/plain": [
       "tensor(15.6952)"
      ]
     },
     "execution_count": 50,
     "metadata": {},
     "output_type": "execute_result"
    }
   ],
   "source": [
    "# negative log likelihood loss\n",
    "loss = -prob[torch.arange(emb.shape[0]), Y].log().mean()\n",
    "loss"
   ]
  },
  {
   "cell_type": "markdown",
   "id": "ba2ad1f3",
   "metadata": {},
   "source": [
    "### A rewritten version of everything (make it cleaner!!)"
   ]
  },
  {
   "cell_type": "code",
   "execution_count": 51,
   "id": "33ea88fa",
   "metadata": {},
   "outputs": [
    {
     "data": {
      "text/plain": [
       "(torch.Size([32, 3]), torch.Size([32]))"
      ]
     },
     "execution_count": 51,
     "metadata": {},
     "output_type": "execute_result"
    }
   ],
   "source": [
    "X.shape, Y.shape"
   ]
  },
  {
   "cell_type": "code",
   "execution_count": 52,
   "id": "835aabb8",
   "metadata": {},
   "outputs": [],
   "source": [
    "g = torch.Generator().manual_seed(2147483647)\n",
    "C = torch.randn((27, 2), generator=g)\n",
    "W1 = torch.randn((6, 100), generator=g)\n",
    "b1 = torch.randn(100, generator=g)\n",
    "W2 = torch.randn((100, 27), generator=g)\n",
    "b2 = torch.randn(27, generator=g)\n",
    "\n",
    "parameters = [C, W1, b1, W2, b2]"
   ]
  },
  {
   "cell_type": "code",
   "execution_count": 53,
   "id": "62d70a29",
   "metadata": {},
   "outputs": [
    {
     "data": {
      "text/plain": [
       "3481"
      ]
     },
     "execution_count": 53,
     "metadata": {},
     "output_type": "execute_result"
    }
   ],
   "source": [
    "sum(p.nelement() for p in parameters) # no. of parameters"
   ]
  },
  {
   "cell_type": "code",
   "execution_count": 54,
   "id": "3a9e3b05",
   "metadata": {},
   "outputs": [],
   "source": [
    "# Forward pass\n",
    "emb = C[X] # shape (32, 3 ,2)\n",
    "h = torch.tanh(emb.view(-1, 6) @ W1 + b1) # (32, 100)\n",
    "logits = h @ W2 + b2 # (32, 27)\n",
    "loss = F.cross_entropy(logits, Y)\n",
    "\n",
    "\n",
    "# # Backward pass\n",
    "# for p in parameters:\n",
    "#     p.grad = None\n",
    "# loss.backward()\n",
    "\n",
    "# for p in parameters:\n",
    "#     p += -0.1 * p.grad"
   ]
  },
  {
   "cell_type": "markdown",
   "id": "87afa32c",
   "metadata": {},
   "source": [
    "PyTorch doesn't create all the new tensors like we are doing, but instead clusters up all these operations and perform them efficiently under the hood using a fused kernel."
   ]
  },
  {
   "cell_type": "code",
   "execution_count": 55,
   "id": "83d0b721",
   "metadata": {},
   "outputs": [
    {
     "data": {
      "text/plain": [
       "tensor(17.7697)"
      ]
     },
     "execution_count": 55,
     "metadata": {},
     "output_type": "execute_result"
    }
   ],
   "source": [
    "# better alternative to calculating loss is using cross entropy loss in Torch\n",
    "loss = F.cross_entropy(logits, Y)\n",
    "loss"
   ]
  },
  {
   "cell_type": "markdown",
   "id": "bffa8c74",
   "metadata": {},
   "source": [
    "Using the manual method, you can potentially run into `NaN`s if your values obtained are too extreme, due to the nature of `exp()`"
   ]
  },
  {
   "cell_type": "code",
   "execution_count": 56,
   "id": "d5dc8d2e",
   "metadata": {},
   "outputs": [
    {
     "data": {
      "text/plain": [
       "tensor([0., 0., 0., nan])"
      ]
     },
     "execution_count": 56,
     "metadata": {},
     "output_type": "execute_result"
    }
   ],
   "source": [
    "logits = torch.tensor([-100, -3, 0 , 100])\n",
    "counts = logits.exp()\n",
    "probs = counts / counts.sum()\n",
    "probs"
   ]
  },
  {
   "cell_type": "markdown",
   "id": "878d2a34",
   "metadata": {},
   "source": [
    "**How does PyTorch solve this?**\n",
    "\n",
    "Notice that adding a constant (bias) to `logits` will not change the values of `probs`\n",
    "\n",
    "It is okay to exponentiate to a small negative value, but not so with a large positive value, hence PyTorch subtracts the max value from `logits`"
   ]
  },
  {
   "cell_type": "code",
   "execution_count": 57,
   "id": "dbbc4a31",
   "metadata": {},
   "outputs": [
    {
     "data": {
      "text/plain": [
       "tensor([4.5079e-05, 3.3309e-04, 6.6903e-03, 9.9293e-01])"
      ]
     },
     "execution_count": 57,
     "metadata": {},
     "output_type": "execute_result"
    }
   ],
   "source": [
    "logits = torch.tensor([-5, -3, 0 , 5]) - 5 # PyTorch subtracts max value\n",
    "counts = logits.exp()\n",
    "probs = counts / counts.sum()\n",
    "probs"
   ]
  },
  {
   "cell_type": "markdown",
   "id": "e78a89c7",
   "metadata": {},
   "source": [
    "### Setting up the training loop\n",
    "\n",
    "Note that we are **overfitting** the data as we only have 32 blocks that we are learning from. Recall that we have close to 3500 parameters."
   ]
  },
  {
   "cell_type": "code",
   "execution_count": 58,
   "id": "8f2a6dc2",
   "metadata": {},
   "outputs": [],
   "source": [
    "for p in parameters:\n",
    "    p.requires_grad = True"
   ]
  },
  {
   "cell_type": "code",
   "execution_count": 59,
   "id": "b9cf7074",
   "metadata": {},
   "outputs": [
    {
     "name": "stdout",
     "output_type": "stream",
     "text": [
      "4.4146647453308105\n"
     ]
    }
   ],
   "source": [
    "for _ in range(10):\n",
    "    # Forward pass\n",
    "    emb = C[X] # shape (32, 3 ,2)\n",
    "    h = torch.tanh(emb.view(-1, 6) @ W1 + b1) # (32, 100)\n",
    "    logits = h @ W2 + b2 # (32, 27)\n",
    "    loss = F.cross_entropy(logits, Y)\n",
    "\n",
    "    # print(loss.item())\n",
    "    \n",
    "    # Backward pass\n",
    "    for p in parameters:\n",
    "        p.grad = None\n",
    "    loss.backward()\n",
    "\n",
    "    for p in parameters:\n",
    "        p.data += -0.1 * p.grad\n",
    "\n",
    "print(loss.item())"
   ]
  },
  {
   "cell_type": "markdown",
   "id": "6ca25269",
   "metadata": {},
   "source": [
    "Observe that the indices returned by `max()` are very close to the labels, differ only in a few cases.\n",
    "\n",
    "Why? This is the reason as to why loss can't reach 0 too. And its because for the blocks `...` there are multiple outputs, that is there are multiple different characters at the start of the names."
   ]
  },
  {
   "cell_type": "code",
   "execution_count": 60,
   "id": "eebcdd58",
   "metadata": {},
   "outputs": [
    {
     "data": {
      "text/plain": [
       "torch.return_types.max(\n",
       "values=tensor([10.7865, 12.2558, 17.3982, 13.2739, 10.6965, 10.7865,  9.5145,  9.0495,\n",
       "        14.0280, 11.8378,  9.9038, 15.4187, 10.7865, 10.1476,  9.8372, 11.7660,\n",
       "        10.7865, 10.0029,  9.2940,  9.6824, 11.4241,  9.4885,  8.1164,  9.5176,\n",
       "        12.6383, 10.7865, 10.6021, 11.0822,  6.3617, 17.3157, 12.4544,  8.1669],\n",
       "       grad_fn=<MaxBackward0>),\n",
       "indices=tensor([ 1,  8,  9,  0, 15,  1, 17,  2,  9,  9,  2,  0,  1, 15,  1,  0,  1, 19,\n",
       "         1,  1, 16, 10, 26,  9,  0,  1, 15, 16,  3,  9, 19,  1]))"
      ]
     },
     "execution_count": 60,
     "metadata": {},
     "output_type": "execute_result"
    }
   ],
   "source": [
    "logits.max(1)"
   ]
  },
  {
   "cell_type": "code",
   "execution_count": 61,
   "id": "43ea85bf",
   "metadata": {},
   "outputs": [
    {
     "data": {
      "text/plain": [
       "tensor([ 5, 13, 13,  1,  0, 15, 12,  9, 22,  9,  1,  0,  1, 22,  1,  0,  9, 19,\n",
       "         1,  2,  5, 12, 12,  1,  0, 19, 15, 16,  8,  9,  1,  0])"
      ]
     },
     "execution_count": 61,
     "metadata": {},
     "output_type": "execute_result"
    }
   ],
   "source": [
    "Y"
   ]
  },
  {
   "cell_type": "markdown",
   "id": "3eee2ac7",
   "metadata": {},
   "source": [
    "### Let's now use the full dataset and optimise the neural network"
   ]
  },
  {
   "cell_type": "code",
   "execution_count": 62,
   "id": "98aa20df",
   "metadata": {},
   "outputs": [],
   "source": [
    "# build the dataset\n",
    "\n",
    "block_size = 3 # context length: how many characters do we take to predict the next one?\n",
    "X, Y = [], []\n",
    "\n",
    "for w in words:\n",
    "    context = [0] * block_size\n",
    "    for ch in w + '.':\n",
    "        ix = stoi[ch]\n",
    "        X.append(context)\n",
    "        Y.append(ix)\n",
    "        # print(''.join(itos[i] for i in context), '--->', itos[ix])\n",
    "        context = context[1:] + [ix] # crop and append\n",
    "        \n",
    "X = torch.tensor(X)\n",
    "Y = torch.tensor(Y)"
   ]
  },
  {
   "cell_type": "code",
   "execution_count": 63,
   "id": "78650dfe",
   "metadata": {},
   "outputs": [
    {
     "data": {
      "text/plain": [
       "(torch.Size([228146, 3]), torch.int64, torch.Size([228146]), torch.int64)"
      ]
     },
     "execution_count": 63,
     "metadata": {},
     "output_type": "execute_result"
    }
   ],
   "source": [
    "X.shape, X.dtype, Y.shape, Y.dtype"
   ]
  },
  {
   "cell_type": "code",
   "execution_count": 64,
   "id": "c64a6ddf",
   "metadata": {},
   "outputs": [],
   "source": [
    "g = torch.Generator().manual_seed(2147483647)\n",
    "C = torch.randn((27, 2), generator=g)\n",
    "W1 = torch.randn((6, 100), generator=g)\n",
    "b1 = torch.randn(100, generator=g)\n",
    "W2 = torch.randn((100, 27), generator=g)\n",
    "b2 = torch.randn(27, generator=g)\n",
    "\n",
    "parameters = [C, W1, b1, W2, b2]"
   ]
  },
  {
   "cell_type": "code",
   "execution_count": 65,
   "id": "cd44d51b",
   "metadata": {},
   "outputs": [
    {
     "data": {
      "text/plain": [
       "3481"
      ]
     },
     "execution_count": 65,
     "metadata": {},
     "output_type": "execute_result"
    }
   ],
   "source": [
    "sum(p.nelement() for p in parameters) # no. of parameters"
   ]
  },
  {
   "cell_type": "code",
   "execution_count": 66,
   "id": "ddcf8e0d",
   "metadata": {},
   "outputs": [],
   "source": [
    "for p in parameters:\n",
    "    p.requires_grad = True"
   ]
  },
  {
   "cell_type": "code",
   "execution_count": 67,
   "id": "d4454b35",
   "metadata": {},
   "outputs": [
    {
     "name": "stdout",
     "output_type": "stream",
     "text": [
      "3.453397512435913\n"
     ]
    }
   ],
   "source": [
    "MINIBATCH_SIZE = 32\n",
    "\n",
    "for _ in range(100):\n",
    "    \n",
    "    # minibatch construct\n",
    "    ix = torch.randint(0, X.shape[0], (MINIBATCH_SIZE,) )\n",
    "    \n",
    "    # Forward pass\n",
    "    emb = C[X[ix]] # shape (32, 3 ,2)\n",
    "    h = torch.tanh(emb.view(-1, 6) @ W1 + b1) # (32, 100)\n",
    "    logits = h @ W2 + b2 # (32, 27)\n",
    "    loss = F.cross_entropy(logits, Y[ix])\n",
    "\n",
    "    # print(loss.item())\n",
    "    \n",
    "    # Backward pass\n",
    "    for p in parameters:\n",
    "        p.grad = None\n",
    "    loss.backward()\n",
    "\n",
    "    for p in parameters:\n",
    "        p.data += -0.1 * p.grad\n",
    "\n",
    "print(loss.item())"
   ]
  },
  {
   "cell_type": "code",
   "execution_count": 68,
   "id": "edf2bcc7",
   "metadata": {},
   "outputs": [
    {
     "data": {
      "text/plain": [
       "tensor(3.7349, grad_fn=<NllLossBackward0>)"
      ]
     },
     "execution_count": 68,
     "metadata": {},
     "output_type": "execute_result"
    }
   ],
   "source": [
    "# evaluate the loss for all of x and all of y\n",
    "emb = C[X] # shape (32, 3 ,2)\n",
    "h = torch.tanh(emb.view(-1, 6) @ W1 + b1) # (32, 100)\n",
    "logits = h @ W2 + b2 # (32, 27)\n",
    "loss = F.cross_entropy(logits, Y)\n",
    "loss"
   ]
  },
  {
   "cell_type": "markdown",
   "id": "68f86bf8",
   "metadata": {},
   "source": [
    "#### Using minibatches (SGD) *minibatch code is included in cells above*\n",
    "\n",
    "SGD decreases the loss much faster. The quality of the gradient is lower but it is good/useful enough. \n",
    "\n",
    "It is better to have an approximate gradient and make more steps, than to evaluate the exact gradient and take fewer steps."
   ]
  },
  {
   "cell_type": "code",
   "execution_count": 69,
   "id": "e676ba22",
   "metadata": {},
   "outputs": [
    {
     "data": {
      "text/plain": [
       "tensor([ 77792, 120935,  18791, 146527, 198915, 130590, 218349, 128291, 163690,\n",
       "        165063, 178787, 125733,  79005,  48297,  27918, 172687, 221791, 110667,\n",
       "        195008,  63518,  32340,  91827, 202064, 202693, 224014, 207332, 221636,\n",
       "        146876, 137497, 151940, 104009, 147546])"
      ]
     },
     "execution_count": 69,
     "metadata": {},
     "output_type": "execute_result"
    }
   ],
   "source": [
    "MINIBATCH_SIZE = 32\n",
    "torch.randint(0, X.shape[0], (MINIBATCH_SIZE,))"
   ]
  },
  {
   "cell_type": "markdown",
   "id": "26eaf28d",
   "metadata": {},
   "source": [
    "### How do we choose a suitable learning rate?\n",
    "\n",
    "Let's reset the parameters"
   ]
  },
  {
   "cell_type": "code",
   "execution_count": 83,
   "id": "6f60cec0",
   "metadata": {},
   "outputs": [],
   "source": [
    "g = torch.Generator().manual_seed(2147483647)\n",
    "C = torch.randn((27, 2), generator=g)\n",
    "W1 = torch.randn((6, 100), generator=g)\n",
    "b1 = torch.randn(100, generator=g)\n",
    "W2 = torch.randn((100, 27), generator=g)\n",
    "b2 = torch.randn(27, generator=g)\n",
    "\n",
    "parameters = [C, W1, b1, W2, b2]"
   ]
  },
  {
   "cell_type": "code",
   "execution_count": 84,
   "id": "5f1de63a",
   "metadata": {},
   "outputs": [],
   "source": [
    "for p in parameters:\n",
    "    p.requires_grad = True"
   ]
  },
  {
   "cell_type": "code",
   "execution_count": 78,
   "id": "6b0efa9c",
   "metadata": {},
   "outputs": [
    {
     "name": "stdout",
     "output_type": "stream",
     "text": [
      "2.7460007667541504\n"
     ]
    }
   ],
   "source": [
    "MINIBATCH_SIZE = 32\n",
    "\n",
    "for _ in range(10000):\n",
    "    \n",
    "    # minibatch construct\n",
    "    ix = torch.randint(0, X.shape[0], (MINIBATCH_SIZE,) )\n",
    "    \n",
    "    # Forward pass\n",
    "    emb = C[X[ix]] # shape (32, 3 ,2)\n",
    "    h = torch.tanh(emb.view(-1, 6) @ W1 + b1) # (32, 100)\n",
    "    logits = h @ W2 + b2 # (32, 27)\n",
    "    loss = F.cross_entropy(logits, Y[ix])\n",
    "\n",
    "    # print(loss.item())\n",
    "    \n",
    "    # Backward pass\n",
    "    for p in parameters:\n",
    "        p.grad = None\n",
    "    loss.backward()\n",
    "\n",
    "    for p in parameters:\n",
    "        p.data += -1 * p.grad\n",
    "\n",
    "print(loss.item())"
   ]
  },
  {
   "cell_type": "markdown",
   "id": "c16e615e",
   "metadata": {},
   "source": [
    "After several trials, the learning rate which seems likely is between 0.001 and 1\n",
    "\n",
    "We will search over this space."
   ]
  },
  {
   "cell_type": "code",
   "execution_count": 73,
   "id": "a48e39c0",
   "metadata": {},
   "outputs": [
    {
     "data": {
      "text/plain": [
       "tensor([0.0010, 0.0010, 0.0010, 0.0010, 0.0010, 0.0010, 0.0010, 0.0010, 0.0011,\n",
       "        0.0011, 0.0011, 0.0011, 0.0011, 0.0011, 0.0011, 0.0011, 0.0011, 0.0011,\n",
       "        0.0011, 0.0011, 0.0011, 0.0012, 0.0012, 0.0012, 0.0012, 0.0012, 0.0012,\n",
       "        0.0012, 0.0012, 0.0012, 0.0012, 0.0012, 0.0012, 0.0013, 0.0013, 0.0013,\n",
       "        0.0013, 0.0013, 0.0013, 0.0013, 0.0013, 0.0013, 0.0013, 0.0013, 0.0014,\n",
       "        0.0014, 0.0014, 0.0014, 0.0014, 0.0014, 0.0014, 0.0014, 0.0014, 0.0014,\n",
       "        0.0015, 0.0015, 0.0015, 0.0015, 0.0015, 0.0015, 0.0015, 0.0015, 0.0015,\n",
       "        0.0015, 0.0016, 0.0016, 0.0016, 0.0016, 0.0016, 0.0016, 0.0016, 0.0016,\n",
       "        0.0016, 0.0017, 0.0017, 0.0017, 0.0017, 0.0017, 0.0017, 0.0017, 0.0017,\n",
       "        0.0018, 0.0018, 0.0018, 0.0018, 0.0018, 0.0018, 0.0018, 0.0018, 0.0019,\n",
       "        0.0019, 0.0019, 0.0019, 0.0019, 0.0019, 0.0019, 0.0019, 0.0020, 0.0020,\n",
       "        0.0020, 0.0020, 0.0020, 0.0020, 0.0020, 0.0021, 0.0021, 0.0021, 0.0021,\n",
       "        0.0021, 0.0021, 0.0021, 0.0022, 0.0022, 0.0022, 0.0022, 0.0022, 0.0022,\n",
       "        0.0022, 0.0023, 0.0023, 0.0023, 0.0023, 0.0023, 0.0023, 0.0024, 0.0024,\n",
       "        0.0024, 0.0024, 0.0024, 0.0024, 0.0025, 0.0025, 0.0025, 0.0025, 0.0025,\n",
       "        0.0025, 0.0026, 0.0026, 0.0026, 0.0026, 0.0026, 0.0027, 0.0027, 0.0027,\n",
       "        0.0027, 0.0027, 0.0027, 0.0028, 0.0028, 0.0028, 0.0028, 0.0028, 0.0029,\n",
       "        0.0029, 0.0029, 0.0029, 0.0029, 0.0030, 0.0030, 0.0030, 0.0030, 0.0030,\n",
       "        0.0031, 0.0031, 0.0031, 0.0031, 0.0032, 0.0032, 0.0032, 0.0032, 0.0032,\n",
       "        0.0033, 0.0033, 0.0033, 0.0033, 0.0034, 0.0034, 0.0034, 0.0034, 0.0034,\n",
       "        0.0035, 0.0035, 0.0035, 0.0035, 0.0036, 0.0036, 0.0036, 0.0036, 0.0037,\n",
       "        0.0037, 0.0037, 0.0037, 0.0038, 0.0038, 0.0038, 0.0039, 0.0039, 0.0039,\n",
       "        0.0039, 0.0040, 0.0040, 0.0040, 0.0040, 0.0041, 0.0041, 0.0041, 0.0042,\n",
       "        0.0042, 0.0042, 0.0042, 0.0043, 0.0043, 0.0043, 0.0044, 0.0044, 0.0044,\n",
       "        0.0045, 0.0045, 0.0045, 0.0045, 0.0046, 0.0046, 0.0046, 0.0047, 0.0047,\n",
       "        0.0047, 0.0048, 0.0048, 0.0048, 0.0049, 0.0049, 0.0049, 0.0050, 0.0050,\n",
       "        0.0050, 0.0051, 0.0051, 0.0051, 0.0052, 0.0052, 0.0053, 0.0053, 0.0053,\n",
       "        0.0054, 0.0054, 0.0054, 0.0055, 0.0055, 0.0056, 0.0056, 0.0056, 0.0057,\n",
       "        0.0057, 0.0058, 0.0058, 0.0058, 0.0059, 0.0059, 0.0060, 0.0060, 0.0060,\n",
       "        0.0061, 0.0061, 0.0062, 0.0062, 0.0062, 0.0063, 0.0063, 0.0064, 0.0064,\n",
       "        0.0065, 0.0065, 0.0066, 0.0066, 0.0067, 0.0067, 0.0067, 0.0068, 0.0068,\n",
       "        0.0069, 0.0069, 0.0070, 0.0070, 0.0071, 0.0071, 0.0072, 0.0072, 0.0073,\n",
       "        0.0073, 0.0074, 0.0074, 0.0075, 0.0075, 0.0076, 0.0076, 0.0077, 0.0077,\n",
       "        0.0078, 0.0079, 0.0079, 0.0080, 0.0080, 0.0081, 0.0081, 0.0082, 0.0082,\n",
       "        0.0083, 0.0084, 0.0084, 0.0085, 0.0085, 0.0086, 0.0086, 0.0087, 0.0088,\n",
       "        0.0088, 0.0089, 0.0090, 0.0090, 0.0091, 0.0091, 0.0092, 0.0093, 0.0093,\n",
       "        0.0094, 0.0095, 0.0095, 0.0096, 0.0097, 0.0097, 0.0098, 0.0099, 0.0099,\n",
       "        0.0100, 0.0101, 0.0101, 0.0102, 0.0103, 0.0104, 0.0104, 0.0105, 0.0106,\n",
       "        0.0106, 0.0107, 0.0108, 0.0109, 0.0109, 0.0110, 0.0111, 0.0112, 0.0112,\n",
       "        0.0113, 0.0114, 0.0115, 0.0116, 0.0116, 0.0117, 0.0118, 0.0119, 0.0120,\n",
       "        0.0121, 0.0121, 0.0122, 0.0123, 0.0124, 0.0125, 0.0126, 0.0127, 0.0127,\n",
       "        0.0128, 0.0129, 0.0130, 0.0131, 0.0132, 0.0133, 0.0134, 0.0135, 0.0136,\n",
       "        0.0137, 0.0137, 0.0138, 0.0139, 0.0140, 0.0141, 0.0142, 0.0143, 0.0144,\n",
       "        0.0145, 0.0146, 0.0147, 0.0148, 0.0149, 0.0150, 0.0151, 0.0152, 0.0154,\n",
       "        0.0155, 0.0156, 0.0157, 0.0158, 0.0159, 0.0160, 0.0161, 0.0162, 0.0163,\n",
       "        0.0165, 0.0166, 0.0167, 0.0168, 0.0169, 0.0170, 0.0171, 0.0173, 0.0174,\n",
       "        0.0175, 0.0176, 0.0178, 0.0179, 0.0180, 0.0181, 0.0182, 0.0184, 0.0185,\n",
       "        0.0186, 0.0188, 0.0189, 0.0190, 0.0192, 0.0193, 0.0194, 0.0196, 0.0197,\n",
       "        0.0198, 0.0200, 0.0201, 0.0202, 0.0204, 0.0205, 0.0207, 0.0208, 0.0210,\n",
       "        0.0211, 0.0212, 0.0214, 0.0215, 0.0217, 0.0218, 0.0220, 0.0221, 0.0223,\n",
       "        0.0225, 0.0226, 0.0228, 0.0229, 0.0231, 0.0232, 0.0234, 0.0236, 0.0237,\n",
       "        0.0239, 0.0241, 0.0242, 0.0244, 0.0246, 0.0247, 0.0249, 0.0251, 0.0253,\n",
       "        0.0254, 0.0256, 0.0258, 0.0260, 0.0261, 0.0263, 0.0265, 0.0267, 0.0269,\n",
       "        0.0271, 0.0273, 0.0274, 0.0276, 0.0278, 0.0280, 0.0282, 0.0284, 0.0286,\n",
       "        0.0288, 0.0290, 0.0292, 0.0294, 0.0296, 0.0298, 0.0300, 0.0302, 0.0304,\n",
       "        0.0307, 0.0309, 0.0311, 0.0313, 0.0315, 0.0317, 0.0320, 0.0322, 0.0324,\n",
       "        0.0326, 0.0328, 0.0331, 0.0333, 0.0335, 0.0338, 0.0340, 0.0342, 0.0345,\n",
       "        0.0347, 0.0350, 0.0352, 0.0354, 0.0357, 0.0359, 0.0362, 0.0364, 0.0367,\n",
       "        0.0369, 0.0372, 0.0375, 0.0377, 0.0380, 0.0382, 0.0385, 0.0388, 0.0390,\n",
       "        0.0393, 0.0396, 0.0399, 0.0401, 0.0404, 0.0407, 0.0410, 0.0413, 0.0416,\n",
       "        0.0418, 0.0421, 0.0424, 0.0427, 0.0430, 0.0433, 0.0436, 0.0439, 0.0442,\n",
       "        0.0445, 0.0448, 0.0451, 0.0455, 0.0458, 0.0461, 0.0464, 0.0467, 0.0471,\n",
       "        0.0474, 0.0477, 0.0480, 0.0484, 0.0487, 0.0491, 0.0494, 0.0497, 0.0501,\n",
       "        0.0504, 0.0508, 0.0511, 0.0515, 0.0518, 0.0522, 0.0526, 0.0529, 0.0533,\n",
       "        0.0537, 0.0540, 0.0544, 0.0548, 0.0552, 0.0556, 0.0559, 0.0563, 0.0567,\n",
       "        0.0571, 0.0575, 0.0579, 0.0583, 0.0587, 0.0591, 0.0595, 0.0599, 0.0604,\n",
       "        0.0608, 0.0612, 0.0616, 0.0621, 0.0625, 0.0629, 0.0634, 0.0638, 0.0642,\n",
       "        0.0647, 0.0651, 0.0656, 0.0660, 0.0665, 0.0670, 0.0674, 0.0679, 0.0684,\n",
       "        0.0688, 0.0693, 0.0698, 0.0703, 0.0708, 0.0713, 0.0718, 0.0723, 0.0728,\n",
       "        0.0733, 0.0738, 0.0743, 0.0748, 0.0753, 0.0758, 0.0764, 0.0769, 0.0774,\n",
       "        0.0780, 0.0785, 0.0790, 0.0796, 0.0802, 0.0807, 0.0813, 0.0818, 0.0824,\n",
       "        0.0830, 0.0835, 0.0841, 0.0847, 0.0853, 0.0859, 0.0865, 0.0871, 0.0877,\n",
       "        0.0883, 0.0889, 0.0895, 0.0901, 0.0908, 0.0914, 0.0920, 0.0927, 0.0933,\n",
       "        0.0940, 0.0946, 0.0953, 0.0959, 0.0966, 0.0973, 0.0979, 0.0986, 0.0993,\n",
       "        0.1000, 0.1007, 0.1014, 0.1021, 0.1028, 0.1035, 0.1042, 0.1050, 0.1057,\n",
       "        0.1064, 0.1072, 0.1079, 0.1087, 0.1094, 0.1102, 0.1109, 0.1117, 0.1125,\n",
       "        0.1133, 0.1140, 0.1148, 0.1156, 0.1164, 0.1172, 0.1181, 0.1189, 0.1197,\n",
       "        0.1205, 0.1214, 0.1222, 0.1231, 0.1239, 0.1248, 0.1256, 0.1265, 0.1274,\n",
       "        0.1283, 0.1292, 0.1301, 0.1310, 0.1319, 0.1328, 0.1337, 0.1346, 0.1356,\n",
       "        0.1365, 0.1374, 0.1384, 0.1394, 0.1403, 0.1413, 0.1423, 0.1433, 0.1443,\n",
       "        0.1453, 0.1463, 0.1473, 0.1483, 0.1493, 0.1504, 0.1514, 0.1525, 0.1535,\n",
       "        0.1546, 0.1557, 0.1567, 0.1578, 0.1589, 0.1600, 0.1611, 0.1623, 0.1634,\n",
       "        0.1645, 0.1657, 0.1668, 0.1680, 0.1691, 0.1703, 0.1715, 0.1727, 0.1739,\n",
       "        0.1751, 0.1763, 0.1775, 0.1788, 0.1800, 0.1812, 0.1825, 0.1838, 0.1850,\n",
       "        0.1863, 0.1876, 0.1889, 0.1902, 0.1916, 0.1929, 0.1942, 0.1956, 0.1969,\n",
       "        0.1983, 0.1997, 0.2010, 0.2024, 0.2038, 0.2053, 0.2067, 0.2081, 0.2096,\n",
       "        0.2110, 0.2125, 0.2140, 0.2154, 0.2169, 0.2184, 0.2200, 0.2215, 0.2230,\n",
       "        0.2246, 0.2261, 0.2277, 0.2293, 0.2309, 0.2325, 0.2341, 0.2357, 0.2373,\n",
       "        0.2390, 0.2406, 0.2423, 0.2440, 0.2457, 0.2474, 0.2491, 0.2508, 0.2526,\n",
       "        0.2543, 0.2561, 0.2579, 0.2597, 0.2615, 0.2633, 0.2651, 0.2669, 0.2688,\n",
       "        0.2707, 0.2725, 0.2744, 0.2763, 0.2783, 0.2802, 0.2821, 0.2841, 0.2861,\n",
       "        0.2880, 0.2900, 0.2921, 0.2941, 0.2961, 0.2982, 0.3002, 0.3023, 0.3044,\n",
       "        0.3065, 0.3087, 0.3108, 0.3130, 0.3151, 0.3173, 0.3195, 0.3217, 0.3240,\n",
       "        0.3262, 0.3285, 0.3308, 0.3331, 0.3354, 0.3377, 0.3400, 0.3424, 0.3448,\n",
       "        0.3472, 0.3496, 0.3520, 0.3544, 0.3569, 0.3594, 0.3619, 0.3644, 0.3669,\n",
       "        0.3695, 0.3720, 0.3746, 0.3772, 0.3798, 0.3825, 0.3851, 0.3878, 0.3905,\n",
       "        0.3932, 0.3959, 0.3987, 0.4014, 0.4042, 0.4070, 0.4098, 0.4127, 0.4155,\n",
       "        0.4184, 0.4213, 0.4243, 0.4272, 0.4302, 0.4331, 0.4362, 0.4392, 0.4422,\n",
       "        0.4453, 0.4484, 0.4515, 0.4546, 0.4578, 0.4610, 0.4642, 0.4674, 0.4706,\n",
       "        0.4739, 0.4772, 0.4805, 0.4838, 0.4872, 0.4906, 0.4940, 0.4974, 0.5008,\n",
       "        0.5043, 0.5078, 0.5113, 0.5149, 0.5185, 0.5221, 0.5257, 0.5293, 0.5330,\n",
       "        0.5367, 0.5404, 0.5442, 0.5479, 0.5517, 0.5556, 0.5594, 0.5633, 0.5672,\n",
       "        0.5712, 0.5751, 0.5791, 0.5831, 0.5872, 0.5913, 0.5954, 0.5995, 0.6036,\n",
       "        0.6078, 0.6120, 0.6163, 0.6206, 0.6249, 0.6292, 0.6336, 0.6380, 0.6424,\n",
       "        0.6469, 0.6513, 0.6559, 0.6604, 0.6650, 0.6696, 0.6743, 0.6789, 0.6837,\n",
       "        0.6884, 0.6932, 0.6980, 0.7028, 0.7077, 0.7126, 0.7176, 0.7225, 0.7275,\n",
       "        0.7326, 0.7377, 0.7428, 0.7480, 0.7531, 0.7584, 0.7636, 0.7689, 0.7743,\n",
       "        0.7796, 0.7850, 0.7905, 0.7960, 0.8015, 0.8071, 0.8127, 0.8183, 0.8240,\n",
       "        0.8297, 0.8355, 0.8412, 0.8471, 0.8530, 0.8589, 0.8648, 0.8708, 0.8769,\n",
       "        0.8830, 0.8891, 0.8953, 0.9015, 0.9077, 0.9140, 0.9204, 0.9268, 0.9332,\n",
       "        0.9397, 0.9462, 0.9528, 0.9594, 0.9660, 0.9727, 0.9795, 0.9863, 0.9931,\n",
       "        1.0000])"
      ]
     },
     "execution_count": 73,
     "metadata": {},
     "output_type": "execute_result"
    }
   ],
   "source": [
    "lre = torch.linspace(-3, 0, 1000) # create 1000 numbers\n",
    "lrs = 10**lre\n",
    "lrs"
   ]
  },
  {
   "cell_type": "code",
   "execution_count": 87,
   "id": "095542dd",
   "metadata": {},
   "outputs": [
    {
     "name": "stdout",
     "output_type": "stream",
     "text": [
      "2.202735424041748\n"
     ]
    }
   ],
   "source": [
    "MINIBATCH_SIZE = 32\n",
    "\n",
    "lri = []\n",
    "lossi = []\n",
    "\n",
    "for i in range(10000):\n",
    "    \n",
    "    # minibatch construct\n",
    "    ix = torch.randint(0, X.shape[0], (MINIBATCH_SIZE,) )\n",
    "    \n",
    "    # Forward pass\n",
    "    emb = C[X[ix]] # shape (32, 3 ,2)\n",
    "    h = torch.tanh(emb.view(-1, 6) @ W1 + b1) # (32, 100)\n",
    "    logits = h @ W2 + b2 # (32, 27)\n",
    "    loss = F.cross_entropy(logits, Y[ix])\n",
    "\n",
    "    # print(loss.item())\n",
    "    \n",
    "    # Backward pass\n",
    "    for p in parameters:\n",
    "        p.grad = None\n",
    "    loss.backward()\n",
    "\n",
    "    # update\n",
    "    # lr = lrs[i]\n",
    "    for p in parameters:\n",
    "        p.data += -0.01 * p.grad\n",
    "    \n",
    "    # track stats\n",
    "    # lri.append(lr)\n",
    "    # lossi.append(loss.item())\n",
    "\n",
    "print(loss.item())"
   ]
  },
  {
   "cell_type": "code",
   "execution_count": 75,
   "id": "0caaa788",
   "metadata": {},
   "outputs": [
    {
     "data": {
      "text/plain": [
       "[<matplotlib.lines.Line2D at 0x1e47a4e8e90>]"
      ]
     },
     "execution_count": 75,
     "metadata": {},
     "output_type": "execute_result"
    },
    {
     "data": {
      "image/png": "[encoded data removed]",
      "text/plain": [
       "<Figure size 640x480 with 1 Axes>"
      ]
     },
     "metadata": {},
     "output_type": "display_data"
    }
   ],
   "source": [
    "plt.plot(lri, lossi)"
   ]
  },
  {
   "cell_type": "markdown",
   "id": "3b1e36df",
   "metadata": {},
   "source": [
    "We notice the least loss is when our learning rate is at around 0.1"
   ]
  },
  {
   "cell_type": "markdown",
   "id": "335e20c1",
   "metadata": {},
   "source": [
    "### Splitting data into train, validation, and test\n",
    "\n",
    "As you increase model size, it might overfit to the data."
   ]
  },
  {
   "cell_type": "code",
   "execution_count": 89,
   "id": "a8da20e6",
   "metadata": {},
   "outputs": [
    {
     "name": "stdout",
     "output_type": "stream",
     "text": [
      "25626 28829 3203\n",
      "torch.Size([182580, 3]) torch.Size([182580])\n",
      "torch.Size([22767, 3]) torch.Size([22767])\n",
      "torch.Size([22799, 3]) torch.Size([22799])\n"
     ]
    }
   ],
   "source": [
    "# training split, validation split, test split\n",
    "# 80%, 10%, 10%\n",
    "\n",
    "def build_dataset(words):\n",
    "    block_size = 3 # context length: how many characters do we take to predict the next one?\n",
    "    X, Y = [], []\n",
    "\n",
    "    for w in words:\n",
    "        context = [0] * block_size\n",
    "        for ch in w + '.':\n",
    "            ix = stoi[ch]\n",
    "            X.append(context)\n",
    "            Y.append(ix)\n",
    "            context = context[1:] + [ix] # crop and append\n",
    "        \n",
    "    X = torch.tensor(X)\n",
    "    Y = torch.tensor(Y)\n",
    "    print(X.shape, Y.shape)\n",
    "    return X, Y\n",
    "\n",
    "import random\n",
    "random.seed(42)\n",
    "random.shuffle(words)\n",
    "n1 = int(0.8*len(words))\n",
    "n2 = int(0.9*len(words))\n",
    "\n",
    "print(n1, n2, n2 - n1)\n",
    "\n",
    "Xtr, Ytr = build_dataset(words[:n1])\n",
    "Xdev, Ydev = build_dataset(words[n1:n2])\n",
    "Xte, Yte = build_dataset(words[n2:])"
   ]
  },
  {
   "cell_type": "code",
   "execution_count": 133,
   "id": "436b9899",
   "metadata": {},
   "outputs": [
    {
     "data": {
      "text/plain": [
       "(torch.Size([182580, 3]), torch.Size([182580]))"
      ]
     },
     "execution_count": 133,
     "metadata": {},
     "output_type": "execute_result"
    }
   ],
   "source": [
    "Xtr.shape, Ytr.shape"
   ]
  },
  {
   "cell_type": "code",
   "execution_count": 134,
   "id": "793b58d4",
   "metadata": {},
   "outputs": [],
   "source": [
    "g = torch.Generator().manual_seed(2147483647)\n",
    "C = torch.randn((27, 2), generator=g)\n",
    "W1 = torch.randn((6, 300), generator=g)\n",
    "b1 = torch.randn(300, generator=g)\n",
    "W2 = torch.randn((300, 27), generator=g)\n",
    "b2 = torch.randn(27, generator=g)\n",
    "\n",
    "parameters = [C, W1, b1, W2, b2]"
   ]
  },
  {
   "cell_type": "code",
   "execution_count": 135,
   "id": "b166d38f",
   "metadata": {},
   "outputs": [
    {
     "data": {
      "text/plain": [
       "10281"
      ]
     },
     "execution_count": 135,
     "metadata": {},
     "output_type": "execute_result"
    }
   ],
   "source": [
    "sum(p.nelement() for p in parameters) # no. of parameters"
   ]
  },
  {
   "cell_type": "code",
   "execution_count": 136,
   "id": "e61310b5",
   "metadata": {},
   "outputs": [],
   "source": [
    "for p in parameters:\n",
    "    p.requires_grad = True"
   ]
  },
  {
   "cell_type": "code",
   "execution_count": 137,
   "id": "c0995967",
   "metadata": {},
   "outputs": [],
   "source": [
    "lre = torch.linspace(-3, 0, 1000)\n",
    "lrs = 10**lre"
   ]
  },
  {
   "cell_type": "code",
   "execution_count": 147,
   "id": "c8a09fc9",
   "metadata": {},
   "outputs": [
    {
     "name": "stdout",
     "output_type": "stream",
     "text": [
      "2.229001760482788\n"
     ]
    }
   ],
   "source": [
    "MINIBATCH_SIZE = 32\n",
    "\n",
    "lri = []\n",
    "lossi = []\n",
    "stepi = []\n",
    "\n",
    "for i in range(30000):\n",
    "    \n",
    "    # minibatch construct\n",
    "    ix = torch.randint(0, Xtr.shape[0], (MINIBATCH_SIZE,) )\n",
    "    \n",
    "    # Forward pass\n",
    "    emb = C[Xtr[ix]] # shape (32, 3 ,2)\n",
    "    h = torch.tanh(emb.view(-1, 6) @ W1 + b1) # (32, 100)\n",
    "    logits = h @ W2 + b2 # (32, 27)\n",
    "    loss = F.cross_entropy(logits, Ytr[ix])\n",
    "\n",
    "    # print(loss.item())\n",
    "    \n",
    "    # Backward pass\n",
    "    for p in parameters:\n",
    "        p.grad = None\n",
    "    loss.backward()\n",
    "\n",
    "    # update\n",
    "    # lr = lrs[i]\n",
    "    for p in parameters:\n",
    "        p.data += -0.01 * p.grad\n",
    "    \n",
    "    # track stats\n",
    "    # lri.append(lr)\n",
    "    stepi.append(i)\n",
    "    lossi.append(loss.item())\n",
    "\n",
    "print(loss.item())"
   ]
  },
  {
   "cell_type": "code",
   "execution_count": 139,
   "id": "50cfc402",
   "metadata": {
    "scrolled": true
   },
   "outputs": [
    {
     "data": {
      "text/plain": [
       "[<matplotlib.lines.Line2D at 0x1e40052af10>]"
      ]
     },
     "execution_count": 139,
     "metadata": {},
     "output_type": "execute_result"
    },
    {
     "data": {
      "image/png": "[encoded data removed]",
      "text/plain": [
       "<Figure size 640x480 with 1 Axes>"
      ]
     },
     "metadata": {},
     "output_type": "display_data"
    }
   ],
   "source": [
    "plt.plot(stepi, lossi)"
   ]
  },
  {
   "cell_type": "markdown",
   "id": "8a4d85bd",
   "metadata": {},
   "source": [
    "The loss for both training and validation set seem to be similar, which means that overfitting is not occurring!"
   ]
  },
  {
   "cell_type": "code",
   "execution_count": 148,
   "id": "ab72fb9f",
   "metadata": {},
   "outputs": [
    {
     "data": {
      "text/plain": [
       "tensor(2.2542, grad_fn=<NllLossBackward0>)"
      ]
     },
     "execution_count": 148,
     "metadata": {},
     "output_type": "execute_result"
    }
   ],
   "source": [
    "# evaluate the loss for validation set\n",
    "emb = C[Xdev] # shape (32, 3 ,2)\n",
    "h = torch.tanh(emb.view(-1, 6) @ W1 + b1) # (32, 100)\n",
    "logits = h @ W2 + b2 # (32, 27)\n",
    "loss = F.cross_entropy(logits, Ydev)\n",
    "loss"
   ]
  },
  {
   "cell_type": "code",
   "execution_count": 149,
   "id": "a3eb71e4",
   "metadata": {},
   "outputs": [
    {
     "data": {
      "text/plain": [
       "tensor(2.2458, grad_fn=<NllLossBackward0>)"
      ]
     },
     "execution_count": 149,
     "metadata": {},
     "output_type": "execute_result"
    }
   ],
   "source": [
    "# evaluate the loss for training set\n",
    "emb = C[Xtr] # shape (32, 3 ,2)\n",
    "h = torch.tanh(emb.view(-1, 6) @ W1 + b1) # (32, 100)\n",
    "logits = h @ W2 + b2 # (32, 27)\n",
    "loss = F.cross_entropy(logits, Ytr)\n",
    "loss"
   ]
  },
  {
   "cell_type": "code",
   "execution_count": 150,
   "id": "656f1649",
   "metadata": {
    "scrolled": true
   },
   "outputs": [
    {
     "data": {
      "image/png": "[encoded data removed]",
      "text/plain": [
       "<Figure size 800x800 with 1 Axes>"
      ]
     },
     "metadata": {},
     "output_type": "display_data"
    }
   ],
   "source": [
    "# visualise embedding vectors\n",
    "plt.figure(figsize=(8, 8))\n",
    "plt.scatter(C[:,0].data, C[:, 1].data, s=200)\n",
    "for i in range(C.shape[0]):\n",
    "    plt.text(C[i, 0].item(), C[i, 1].item(), itos[i], ha=\"center\", va=\"center\", color=\"white\")\n",
    "plt.grid('minor')"
   ]
  },
  {
   "cell_type": "markdown",
   "id": "8c79290f",
   "metadata": {},
   "source": [
    "From the above, we can see that the network has learnt to cluster the characters a little bit\n",
    "\n",
    "e.g. vowels are near each other, rare characters like 'q' are far away"
   ]
  },
  {
   "cell_type": "markdown",
   "id": "f0074659",
   "metadata": {},
   "source": [
    "### Increasing dimensionality of the embeddings\n",
    "\n",
    "The constraints to our network's performance could be due to only having 2 dimensions in the embeddings"
   ]
  },
  {
   "cell_type": "code",
   "execution_count": 151,
   "id": "d29685d9",
   "metadata": {},
   "outputs": [],
   "source": [
    "g = torch.Generator().manual_seed(2147483647)\n",
    "C = torch.randn((27, 10), generator=g)\n",
    "W1 = torch.randn((30, 200), generator=g) # make hidden layer slightly smaller\n",
    "b1 = torch.randn(200, generator=g)\n",
    "W2 = torch.randn((200, 27), generator=g)\n",
    "b2 = torch.randn(27, generator=g)\n",
    "\n",
    "parameters = [C, W1, b1, W2, b2]"
   ]
  },
  {
   "cell_type": "code",
   "execution_count": 152,
   "id": "c1b885dd",
   "metadata": {},
   "outputs": [
    {
     "data": {
      "text/plain": [
       "11897"
      ]
     },
     "execution_count": 152,
     "metadata": {},
     "output_type": "execute_result"
    }
   ],
   "source": [
    "sum(p.nelement() for p in parameters) # no. of parameters"
   ]
  },
  {
   "cell_type": "code",
   "execution_count": 153,
   "id": "9a4a300f",
   "metadata": {},
   "outputs": [],
   "source": [
    "for p in parameters:\n",
    "    p.requires_grad = True"
   ]
  },
  {
   "cell_type": "code",
   "execution_count": 154,
   "id": "e702a9fa",
   "metadata": {},
   "outputs": [],
   "source": [
    "MINIBATCH_SIZE = 32\n",
    "\n",
    "lri = []\n",
    "lossi = []\n",
    "stepi = []"
   ]
  },
  {
   "cell_type": "code",
   "execution_count": 162,
   "id": "05601d2a",
   "metadata": {},
   "outputs": [
    {
     "name": "stdout",
     "output_type": "stream",
     "text": [
      "2.2303340435028076\n"
     ]
    }
   ],
   "source": [
    "for i in range(50000):\n",
    "    \n",
    "    # minibatch construct\n",
    "    ix = torch.randint(0, Xtr.shape[0], (MINIBATCH_SIZE,) )\n",
    "    \n",
    "    # Forward pass\n",
    "    emb = C[Xtr[ix]] \n",
    "    h = torch.tanh(emb.view(-1, 30) @ W1 + b1) \n",
    "    logits = h @ W2 + b2 \n",
    "    loss = F.cross_entropy(logits, Ytr[ix])\n",
    "\n",
    "    # print(loss.item())\n",
    "    \n",
    "    # Backward pass\n",
    "    for p in parameters:\n",
    "        p.grad = None\n",
    "    loss.backward()\n",
    "\n",
    "    # update\n",
    "    # lr = lrs[i]\n",
    "    for p in parameters:\n",
    "        p.data += -0.01 * p.grad\n",
    "    \n",
    "    # track stats\n",
    "    # lri.append(lr)\n",
    "    stepi.append(i)\n",
    "    lossi.append(loss.log10().item())\n",
    "\n",
    "print(loss.item())"
   ]
  },
  {
   "cell_type": "code",
   "execution_count": 163,
   "id": "4d67937c",
   "metadata": {},
   "outputs": [
    {
     "data": {
      "text/plain": [
       "[<matplotlib.lines.Line2D at 0x1e43f777bd0>]"
      ]
     },
     "execution_count": 163,
     "metadata": {},
     "output_type": "execute_result"
    },
    {
     "data": {
      "image/png": "[encoded data removed]",
      "text/plain": [
       "<Figure size 640x480 with 1 Axes>"
      ]
     },
     "metadata": {},
     "output_type": "display_data"
    }
   ],
   "source": [
    "plt.plot(stepi, lossi)"
   ]
  },
  {
   "cell_type": "code",
   "execution_count": 164,
   "id": "bd49dd42",
   "metadata": {},
   "outputs": [
    {
     "data": {
      "text/plain": [
       "tensor(2.1828, grad_fn=<NllLossBackward0>)"
      ]
     },
     "execution_count": 164,
     "metadata": {},
     "output_type": "execute_result"
    }
   ],
   "source": [
    "# evaluate the loss for validation set\n",
    "emb = C[Xdev] # shape (32, 3 ,2)\n",
    "h = torch.tanh(emb.view(-1, 30) @ W1 + b1) # (32, 100)\n",
    "logits = h @ W2 + b2 # (32, 27)\n",
    "loss = F.cross_entropy(logits, Ydev)\n",
    "loss"
   ]
  },
  {
   "cell_type": "code",
   "execution_count": 165,
   "id": "50696389",
   "metadata": {},
   "outputs": [
    {
     "data": {
      "text/plain": [
       "tensor(2.1602, grad_fn=<NllLossBackward0>)"
      ]
     },
     "execution_count": 165,
     "metadata": {},
     "output_type": "execute_result"
    }
   ],
   "source": [
    "# evaluate the loss for training set\n",
    "emb = C[Xtr] # shape (32, 3 ,2)\n",
    "h = torch.tanh(emb.view(-1, 30) @ W1 + b1) # (32, 100)\n",
    "logits = h @ W2 + b2 # (32, 27)\n",
    "loss = F.cross_entropy(logits, Ytr)\n",
    "loss"
   ]
  },
  {
   "cell_type": "markdown",
   "id": "397f06d0",
   "metadata": {},
   "source": [
    "### Sampling from the model"
   ]
  },
  {
   "cell_type": "code",
   "execution_count": 168,
   "id": "3cb5e059",
   "metadata": {},
   "outputs": [
    {
     "name": "stdout",
     "output_type": "stream",
     "text": [
      "mria.\n",
      "kayah.\n",
      "keel.\n",
      "nihahma.\n",
      "remmaniendraj.\n",
      "caderedieliah.\n",
      "mikoelle.\n",
      "elieananaraelyzima.\n",
      "kalin.\n",
      "shrenziah.\n",
      "mier.\n",
      "kin.\n",
      "renelionna.\n",
      "adanu.\n",
      "zence.\n",
      "rhylene.\n",
      "els.\n",
      "kay.\n",
      "maston.\n",
      "mahia.\n"
     ]
    }
   ],
   "source": [
    "g = torch.Generator().manual_seed(2147483647 + 10)\n",
    "\n",
    "for _ in range(20):\n",
    "    out = []\n",
    "    context = [0] * block_size # initialise with all \"...\"\n",
    "    \n",
    "    while True:\n",
    "        emb = C[torch.tensor([context])] # (1, block_size, d)\n",
    "        h = torch.tanh(emb.view(1, -1) @ W1 + b1)\n",
    "        logits = h @ W2 + b2\n",
    "        probs = F.softmax(logits, dim=1)\n",
    "        ix = torch.multinomial(probs, num_samples=1, generator=g).item()\n",
    "        context = context[1:] + [ix]\n",
    "        out.append(ix)\n",
    "        if ix == 0:\n",
    "            break\n",
    "\n",
    "    print(''.join(itos[i] for i in out))"
   ]
  },
  {
   "cell_type": "code",
   "execution_count": null,
   "id": "1b5bde0a",
   "metadata": {},
   "outputs": [],
   "source": [
    "\n"
   ]
  }
 ],
 "metadata": {
  "kernelspec": {
   "display_name": "Python 3 (ipykernel)",
   "language": "python",
   "name": "python3"
  },
  "language_info": {
   "codemirror_mode": {
    "name": "ipython",
    "version": 3
   },
   "file_extension": ".py",
   "mimetype": "text/x-python",
   "name": "python",
   "nbconvert_exporter": "python",
   "pygments_lexer": "ipython3",
   "version": "3.11.3"
  }
 },
 "nbformat": 4,
 "nbformat_minor": 5
}
